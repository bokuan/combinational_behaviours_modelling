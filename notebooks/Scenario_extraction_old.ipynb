{
 "cells": [
  {
   "cell_type": "code",
   "execution_count": 2,
   "id": "2bdfad96",
   "metadata": {
    "editable": true,
    "slideshow": {
     "slide_type": ""
    },
    "tags": []
   },
   "outputs": [],
   "source": [
    "import pandas as pd\n",
    "import numpy as np\n",
    "import sys\n",
    "sys.path.append('/mnt/proj/adas-daas/common_libraries/adas_mtd/')\n",
    "import src.data.utils.db_helper as dbh"
   ]
  },
  {
   "cell_type": "code",
   "execution_count": 7,
   "id": "3e17be07",
   "metadata": {},
   "outputs": [],
   "source": [
    "recording_id = ['FH2369_20220322_141936','FH2467_20220322_125702']"
   ]
  },
  {
   "cell_type": "code",
   "execution_count": 12,
   "id": "1c70cacc",
   "metadata": {},
   "outputs": [
    {
     "ename": "TypeError",
     "evalue": "Additional arguments should be named <dialectname>_<argument>, got 'autoload'",
     "output_type": "error",
     "traceback": [
      "\u001b[0;31m---------------------------------------------------------------------------\u001b[0m",
      "\u001b[0;31mTypeError\u001b[0m                                 Traceback (most recent call last)",
      "Cell \u001b[0;32mIn[12], line 1\u001b[0m\n\u001b[0;32m----> 1\u001b[0m all_recording_ids_road_type_tag \u001b[38;5;241m=\u001b[39m \u001b[43mdbh\u001b[49m\u001b[38;5;241;43m.\u001b[39;49m\u001b[43mread_db_to_df\u001b[49m\u001b[43m(\u001b[49m\u001b[38;5;124;43m'\u001b[39;49m\u001b[38;5;124;43mall_recording_ids_road_type_tag\u001b[39;49m\u001b[38;5;124;43m'\u001b[39;49m\u001b[43m,\u001b[49m\u001b[43m \u001b[49m\u001b[38;5;124;43m'\u001b[39;49m\u001b[38;5;124;43mda_gds\u001b[39;49m\u001b[38;5;124;43m'\u001b[39;49m\u001b[43m)\u001b[49m\n",
      "File \u001b[0;32m/mnt/proj/adas-daas/common_libraries/adas_mtd/src/data/utils/db_helper.py:95\u001b[0m, in \u001b[0;36mread_db_to_df\u001b[0;34m(table_name, schema)\u001b[0m\n\u001b[1;32m     93\u001b[0m conn \u001b[38;5;241m=\u001b[39m read_engine\u001b[38;5;241m.\u001b[39mconnect()\n\u001b[1;32m     94\u001b[0m metadata \u001b[38;5;241m=\u001b[39m sqlalchemy\u001b[38;5;241m.\u001b[39mMetaData()\n\u001b[0;32m---> 95\u001b[0m table \u001b[38;5;241m=\u001b[39m \u001b[43msqlalchemy\u001b[49m\u001b[38;5;241;43m.\u001b[39;49m\u001b[43mTable\u001b[49m\u001b[43m(\u001b[49m\u001b[43mtable_name\u001b[49m\u001b[43m,\u001b[49m\u001b[43m \u001b[49m\u001b[43mmetadata\u001b[49m\u001b[43m,\u001b[49m\u001b[43m \u001b[49m\u001b[43mautoload\u001b[49m\u001b[38;5;241;43m=\u001b[39;49m\u001b[38;5;28;43;01mTrue\u001b[39;49;00m\u001b[43m,\u001b[49m\n\u001b[1;32m     96\u001b[0m \u001b[43m                         \u001b[49m\u001b[43mautoload_with\u001b[49m\u001b[38;5;241;43m=\u001b[39;49m\u001b[43mread_engine\u001b[49m\u001b[43m,\u001b[49m\u001b[43m \u001b[49m\u001b[43mschema\u001b[49m\u001b[38;5;241;43m=\u001b[39;49m\u001b[43mschema\u001b[49m\u001b[43m)\u001b[49m\n\u001b[1;32m     98\u001b[0m query \u001b[38;5;241m=\u001b[39m sqlalchemy\u001b[38;5;241m.\u001b[39mselect([table])\n\u001b[1;32m     99\u001b[0m df \u001b[38;5;241m=\u001b[39m conn\u001b[38;5;241m.\u001b[39mexecute(query)\n",
      "File \u001b[0;32m<string>:2\u001b[0m, in \u001b[0;36m__new__\u001b[0;34m(cls, *args, **kw)\u001b[0m\n",
      "File \u001b[0;32m/opt/conda/lib/python3.11/site-packages/sqlalchemy/util/deprecations.py:281\u001b[0m, in \u001b[0;36mdeprecated_params.<locals>.decorate.<locals>.warned\u001b[0;34m(fn, *args, **kwargs)\u001b[0m\n\u001b[1;32m    274\u001b[0m     \u001b[38;5;28;01mif\u001b[39;00m m \u001b[38;5;129;01min\u001b[39;00m kwargs:\n\u001b[1;32m    275\u001b[0m         _warn_with_version(\n\u001b[1;32m    276\u001b[0m             messages[m],\n\u001b[1;32m    277\u001b[0m             versions[m],\n\u001b[1;32m    278\u001b[0m             version_warnings[m],\n\u001b[1;32m    279\u001b[0m             stacklevel\u001b[38;5;241m=\u001b[39m\u001b[38;5;241m3\u001b[39m,\n\u001b[1;32m    280\u001b[0m         )\n\u001b[0;32m--> 281\u001b[0m \u001b[38;5;28;01mreturn\u001b[39;00m \u001b[43mfn\u001b[49m\u001b[43m(\u001b[49m\u001b[38;5;241;43m*\u001b[39;49m\u001b[43margs\u001b[49m\u001b[43m,\u001b[49m\u001b[43m \u001b[49m\u001b[38;5;241;43m*\u001b[39;49m\u001b[38;5;241;43m*\u001b[39;49m\u001b[43mkwargs\u001b[49m\u001b[43m)\u001b[49m\n",
      "File \u001b[0;32m/opt/conda/lib/python3.11/site-packages/sqlalchemy/sql/schema.py:437\u001b[0m, in \u001b[0;36mTable.__new__\u001b[0;34m(cls, *args, **kw)\u001b[0m\n\u001b[1;32m    430\u001b[0m \u001b[38;5;129m@util\u001b[39m\u001b[38;5;241m.\u001b[39mdeprecated_params(\n\u001b[1;32m    431\u001b[0m     mustexist\u001b[38;5;241m=\u001b[39m(\n\u001b[1;32m    432\u001b[0m         \u001b[38;5;124m\"\u001b[39m\u001b[38;5;124m1.4\u001b[39m\u001b[38;5;124m\"\u001b[39m,\n\u001b[0;32m   (...)\u001b[0m\n\u001b[1;32m    435\u001b[0m )\n\u001b[1;32m    436\u001b[0m \u001b[38;5;28;01mdef\u001b[39;00m \u001b[38;5;21m__new__\u001b[39m(\u001b[38;5;28mcls\u001b[39m, \u001b[38;5;241m*\u001b[39margs: Any, \u001b[38;5;241m*\u001b[39m\u001b[38;5;241m*\u001b[39mkw: Any) \u001b[38;5;241m-\u001b[39m\u001b[38;5;241m>\u001b[39m Any:\n\u001b[0;32m--> 437\u001b[0m     \u001b[38;5;28;01mreturn\u001b[39;00m \u001b[38;5;28;43mcls\u001b[39;49m\u001b[38;5;241;43m.\u001b[39;49m\u001b[43m_new\u001b[49m\u001b[43m(\u001b[49m\u001b[38;5;241;43m*\u001b[39;49m\u001b[43margs\u001b[49m\u001b[43m,\u001b[49m\u001b[43m \u001b[49m\u001b[38;5;241;43m*\u001b[39;49m\u001b[38;5;241;43m*\u001b[39;49m\u001b[43mkw\u001b[49m\u001b[43m)\u001b[49m\n",
      "File \u001b[0;32m/opt/conda/lib/python3.11/site-packages/sqlalchemy/sql/schema.py:491\u001b[0m, in \u001b[0;36mTable._new\u001b[0;34m(cls, *args, **kw)\u001b[0m\n\u001b[1;32m    489\u001b[0m     \u001b[38;5;28;01mreturn\u001b[39;00m table\n\u001b[1;32m    490\u001b[0m \u001b[38;5;28;01mexcept\u001b[39;00m \u001b[38;5;167;01mException\u001b[39;00m:\n\u001b[0;32m--> 491\u001b[0m \u001b[43m    \u001b[49m\u001b[38;5;28;43;01mwith\u001b[39;49;00m\u001b[43m \u001b[49m\u001b[43mutil\u001b[49m\u001b[38;5;241;43m.\u001b[39;49m\u001b[43msafe_reraise\u001b[49m\u001b[43m(\u001b[49m\u001b[43m)\u001b[49m\u001b[43m:\u001b[49m\n\u001b[1;32m    492\u001b[0m \u001b[43m        \u001b[49m\u001b[43mmetadata\u001b[49m\u001b[38;5;241;43m.\u001b[39;49m\u001b[43m_remove_table\u001b[49m\u001b[43m(\u001b[49m\u001b[43mname\u001b[49m\u001b[43m,\u001b[49m\u001b[43m \u001b[49m\u001b[43mschema\u001b[49m\u001b[43m)\u001b[49m\n",
      "File \u001b[0;32m/opt/conda/lib/python3.11/site-packages/sqlalchemy/util/langhelpers.py:147\u001b[0m, in \u001b[0;36msafe_reraise.__exit__\u001b[0;34m(self, type_, value, traceback)\u001b[0m\n\u001b[1;32m    145\u001b[0m     \u001b[38;5;28;01massert\u001b[39;00m exc_value \u001b[38;5;129;01mis\u001b[39;00m \u001b[38;5;129;01mnot\u001b[39;00m \u001b[38;5;28;01mNone\u001b[39;00m\n\u001b[1;32m    146\u001b[0m     \u001b[38;5;28mself\u001b[39m\u001b[38;5;241m.\u001b[39m_exc_info \u001b[38;5;241m=\u001b[39m \u001b[38;5;28;01mNone\u001b[39;00m  \u001b[38;5;66;03m# remove potential circular references\u001b[39;00m\n\u001b[0;32m--> 147\u001b[0m     \u001b[38;5;28;01mraise\u001b[39;00m exc_value\u001b[38;5;241m.\u001b[39mwith_traceback(exc_tb)\n\u001b[1;32m    148\u001b[0m \u001b[38;5;28;01melse\u001b[39;00m:\n\u001b[1;32m    149\u001b[0m     \u001b[38;5;28mself\u001b[39m\u001b[38;5;241m.\u001b[39m_exc_info \u001b[38;5;241m=\u001b[39m \u001b[38;5;28;01mNone\u001b[39;00m  \u001b[38;5;66;03m# remove potential circular references\u001b[39;00m\n",
      "File \u001b[0;32m/opt/conda/lib/python3.11/site-packages/sqlalchemy/sql/schema.py:487\u001b[0m, in \u001b[0;36mTable._new\u001b[0;34m(cls, *args, **kw)\u001b[0m\n\u001b[1;32m    485\u001b[0m metadata\u001b[38;5;241m.\u001b[39m_add_table(name, schema, table)\n\u001b[1;32m    486\u001b[0m \u001b[38;5;28;01mtry\u001b[39;00m:\n\u001b[0;32m--> 487\u001b[0m     \u001b[43mtable\u001b[49m\u001b[38;5;241;43m.\u001b[39;49m\u001b[38;5;21;43m__init__\u001b[39;49m\u001b[43m(\u001b[49m\u001b[43mname\u001b[49m\u001b[43m,\u001b[49m\u001b[43m \u001b[49m\u001b[43mmetadata\u001b[49m\u001b[43m,\u001b[49m\u001b[43m \u001b[49m\u001b[38;5;241;43m*\u001b[39;49m\u001b[43margs\u001b[49m\u001b[43m,\u001b[49m\u001b[43m \u001b[49m\u001b[43m_no_init\u001b[49m\u001b[38;5;241;43m=\u001b[39;49m\u001b[38;5;28;43;01mFalse\u001b[39;49;00m\u001b[43m,\u001b[49m\u001b[43m \u001b[49m\u001b[38;5;241;43m*\u001b[39;49m\u001b[38;5;241;43m*\u001b[39;49m\u001b[43mkw\u001b[49m\u001b[43m)\u001b[49m\n\u001b[1;32m    488\u001b[0m     table\u001b[38;5;241m.\u001b[39mdispatch\u001b[38;5;241m.\u001b[39mafter_parent_attach(table, metadata)\n\u001b[1;32m    489\u001b[0m     \u001b[38;5;28;01mreturn\u001b[39;00m table\n",
      "File \u001b[0;32m/opt/conda/lib/python3.11/site-packages/sqlalchemy/sql/schema.py:861\u001b[0m, in \u001b[0;36mTable.__init__\u001b[0;34m(self, name, metadata, schema, quote, quote_schema, autoload_with, autoload_replace, keep_existing, extend_existing, resolve_fks, include_columns, implicit_returning, comment, info, listeners, prefixes, _extend_on, _no_init, *args, **kw)\u001b[0m\n\u001b[1;32m    857\u001b[0m         event\u001b[38;5;241m.\u001b[39mlisten(\u001b[38;5;28mself\u001b[39m, evt, fn)\n\u001b[1;32m    859\u001b[0m \u001b[38;5;28mself\u001b[39m\u001b[38;5;241m.\u001b[39m_prefixes \u001b[38;5;241m=\u001b[39m prefixes \u001b[38;5;28;01mif\u001b[39;00m prefixes \u001b[38;5;28;01melse\u001b[39;00m []\n\u001b[0;32m--> 861\u001b[0m \u001b[38;5;28;43mself\u001b[39;49m\u001b[38;5;241;43m.\u001b[39;49m\u001b[43m_extra_kwargs\u001b[49m\u001b[43m(\u001b[49m\u001b[38;5;241;43m*\u001b[39;49m\u001b[38;5;241;43m*\u001b[39;49m\u001b[43mkw\u001b[49m\u001b[43m)\u001b[49m\n\u001b[1;32m    863\u001b[0m \u001b[38;5;66;03m# load column definitions from the database if 'autoload' is defined\u001b[39;00m\n\u001b[1;32m    864\u001b[0m \u001b[38;5;66;03m# we do it after the table is in the singleton dictionary to support\u001b[39;00m\n\u001b[1;32m    865\u001b[0m \u001b[38;5;66;03m# circular foreign keys\u001b[39;00m\n\u001b[1;32m    866\u001b[0m \u001b[38;5;28;01mif\u001b[39;00m autoload_with \u001b[38;5;129;01mis\u001b[39;00m \u001b[38;5;129;01mnot\u001b[39;00m \u001b[38;5;28;01mNone\u001b[39;00m:\n",
      "File \u001b[0;32m/opt/conda/lib/python3.11/site-packages/sqlalchemy/sql/schema.py:1009\u001b[0m, in \u001b[0;36mTable._extra_kwargs\u001b[0;34m(self, **kwargs)\u001b[0m\n\u001b[1;32m   1008\u001b[0m \u001b[38;5;28;01mdef\u001b[39;00m \u001b[38;5;21m_extra_kwargs\u001b[39m(\u001b[38;5;28mself\u001b[39m, \u001b[38;5;241m*\u001b[39m\u001b[38;5;241m*\u001b[39mkwargs: Any) \u001b[38;5;241m-\u001b[39m\u001b[38;5;241m>\u001b[39m \u001b[38;5;28;01mNone\u001b[39;00m:\n\u001b[0;32m-> 1009\u001b[0m     \u001b[38;5;28;43mself\u001b[39;49m\u001b[38;5;241;43m.\u001b[39;49m\u001b[43m_validate_dialect_kwargs\u001b[49m\u001b[43m(\u001b[49m\u001b[43mkwargs\u001b[49m\u001b[43m)\u001b[49m\n",
      "File \u001b[0;32m/opt/conda/lib/python3.11/site-packages/sqlalchemy/sql/base.py:599\u001b[0m, in \u001b[0;36mDialectKWArgs._validate_dialect_kwargs\u001b[0;34m(self, kwargs)\u001b[0m\n\u001b[1;32m    597\u001b[0m m \u001b[38;5;241m=\u001b[39m re\u001b[38;5;241m.\u001b[39mmatch(\u001b[38;5;124m\"\u001b[39m\u001b[38;5;124m^(.+?)_(.+)$\u001b[39m\u001b[38;5;124m\"\u001b[39m, k)\n\u001b[1;32m    598\u001b[0m \u001b[38;5;28;01mif\u001b[39;00m \u001b[38;5;129;01mnot\u001b[39;00m m:\n\u001b[0;32m--> 599\u001b[0m     \u001b[38;5;28;01mraise\u001b[39;00m \u001b[38;5;167;01mTypeError\u001b[39;00m(\n\u001b[1;32m    600\u001b[0m         \u001b[38;5;124m\"\u001b[39m\u001b[38;5;124mAdditional arguments should be \u001b[39m\u001b[38;5;124m\"\u001b[39m\n\u001b[1;32m    601\u001b[0m         \u001b[38;5;124m\"\u001b[39m\u001b[38;5;124mnamed <dialectname>_<argument>, got \u001b[39m\u001b[38;5;124m'\u001b[39m\u001b[38;5;132;01m%s\u001b[39;00m\u001b[38;5;124m'\u001b[39m\u001b[38;5;124m\"\u001b[39m \u001b[38;5;241m%\u001b[39m k\n\u001b[1;32m    602\u001b[0m     )\n\u001b[1;32m    603\u001b[0m dialect_name, arg_name \u001b[38;5;241m=\u001b[39m m\u001b[38;5;241m.\u001b[39mgroup(\u001b[38;5;241m1\u001b[39m, \u001b[38;5;241m2\u001b[39m)\n\u001b[1;32m    605\u001b[0m \u001b[38;5;28;01mtry\u001b[39;00m:\n",
      "\u001b[0;31mTypeError\u001b[0m: Additional arguments should be named <dialectname>_<argument>, got 'autoload'"
     ]
    }
   ],
   "source": [
    "all_recording_ids_road_type_tag = dbh.read_db_to_df('all_recording_ids_road_type_tag', 'da_gds')"
   ]
  },
  {
   "cell_type": "code",
   "execution_count": 6,
   "id": "309fd226",
   "metadata": {},
   "outputs": [
    {
     "ename": "TypeError",
     "evalue": "Additional arguments should be named <dialectname>_<argument>, got 'autoload'",
     "output_type": "error",
     "traceback": [
      "\u001b[0;31m---------------------------------------------------------------------------\u001b[0m",
      "\u001b[0;31mTypeError\u001b[0m                                 Traceback (most recent call last)",
      "Cell \u001b[0;32mIn[6], line 1\u001b[0m\n\u001b[0;32m----> 1\u001b[0m road_type \u001b[38;5;241m=\u001b[39m \u001b[43mdbh\u001b[49m\u001b[38;5;241;43m.\u001b[39;49m\u001b[43mread_db_to_df\u001b[49m\u001b[43m(\u001b[49m\u001b[38;5;124;43m'\u001b[39;49m\u001b[38;5;124;43mall_recording_ids_road_type_tag\u001b[39;49m\u001b[38;5;124;43m'\u001b[39;49m\u001b[43m,\u001b[49m\u001b[43m \u001b[49m\u001b[38;5;124;43m'\u001b[39;49m\u001b[38;5;124;43mda_gds\u001b[39;49m\u001b[38;5;124;43m'\u001b[39;49m\u001b[43m)\u001b[49m\n",
      "File \u001b[0;32m/mnt/proj/adas-daas/common_libraries/adas_mtd/src/data/utils/db_helper.py:95\u001b[0m, in \u001b[0;36mread_db_to_df\u001b[0;34m(table_name, schema)\u001b[0m\n\u001b[1;32m     93\u001b[0m conn \u001b[38;5;241m=\u001b[39m read_engine\u001b[38;5;241m.\u001b[39mconnect()\n\u001b[1;32m     94\u001b[0m metadata \u001b[38;5;241m=\u001b[39m sqlalchemy\u001b[38;5;241m.\u001b[39mMetaData()\n\u001b[0;32m---> 95\u001b[0m table \u001b[38;5;241m=\u001b[39m \u001b[43msqlalchemy\u001b[49m\u001b[38;5;241;43m.\u001b[39;49m\u001b[43mTable\u001b[49m\u001b[43m(\u001b[49m\u001b[43mtable_name\u001b[49m\u001b[43m,\u001b[49m\u001b[43m \u001b[49m\u001b[43mmetadata\u001b[49m\u001b[43m,\u001b[49m\u001b[43m \u001b[49m\u001b[43mautoload\u001b[49m\u001b[38;5;241;43m=\u001b[39;49m\u001b[38;5;28;43;01mTrue\u001b[39;49;00m\u001b[43m,\u001b[49m\n\u001b[1;32m     96\u001b[0m \u001b[43m                         \u001b[49m\u001b[43mautoload_with\u001b[49m\u001b[38;5;241;43m=\u001b[39;49m\u001b[43mread_engine\u001b[49m\u001b[43m,\u001b[49m\u001b[43m \u001b[49m\u001b[43mschema\u001b[49m\u001b[38;5;241;43m=\u001b[39;49m\u001b[43mschema\u001b[49m\u001b[43m)\u001b[49m\n\u001b[1;32m     98\u001b[0m query \u001b[38;5;241m=\u001b[39m sqlalchemy\u001b[38;5;241m.\u001b[39mselect([table])\n\u001b[1;32m     99\u001b[0m df \u001b[38;5;241m=\u001b[39m conn\u001b[38;5;241m.\u001b[39mexecute(query)\n",
      "File \u001b[0;32m<string>:2\u001b[0m, in \u001b[0;36m__new__\u001b[0;34m(cls, *args, **kw)\u001b[0m\n",
      "File \u001b[0;32m/opt/conda/lib/python3.11/site-packages/sqlalchemy/util/deprecations.py:281\u001b[0m, in \u001b[0;36mdeprecated_params.<locals>.decorate.<locals>.warned\u001b[0;34m(fn, *args, **kwargs)\u001b[0m\n\u001b[1;32m    274\u001b[0m     \u001b[38;5;28;01mif\u001b[39;00m m \u001b[38;5;129;01min\u001b[39;00m kwargs:\n\u001b[1;32m    275\u001b[0m         _warn_with_version(\n\u001b[1;32m    276\u001b[0m             messages[m],\n\u001b[1;32m    277\u001b[0m             versions[m],\n\u001b[1;32m    278\u001b[0m             version_warnings[m],\n\u001b[1;32m    279\u001b[0m             stacklevel\u001b[38;5;241m=\u001b[39m\u001b[38;5;241m3\u001b[39m,\n\u001b[1;32m    280\u001b[0m         )\n\u001b[0;32m--> 281\u001b[0m \u001b[38;5;28;01mreturn\u001b[39;00m \u001b[43mfn\u001b[49m\u001b[43m(\u001b[49m\u001b[38;5;241;43m*\u001b[39;49m\u001b[43margs\u001b[49m\u001b[43m,\u001b[49m\u001b[43m \u001b[49m\u001b[38;5;241;43m*\u001b[39;49m\u001b[38;5;241;43m*\u001b[39;49m\u001b[43mkwargs\u001b[49m\u001b[43m)\u001b[49m\n",
      "File \u001b[0;32m/opt/conda/lib/python3.11/site-packages/sqlalchemy/sql/schema.py:437\u001b[0m, in \u001b[0;36mTable.__new__\u001b[0;34m(cls, *args, **kw)\u001b[0m\n\u001b[1;32m    430\u001b[0m \u001b[38;5;129m@util\u001b[39m\u001b[38;5;241m.\u001b[39mdeprecated_params(\n\u001b[1;32m    431\u001b[0m     mustexist\u001b[38;5;241m=\u001b[39m(\n\u001b[1;32m    432\u001b[0m         \u001b[38;5;124m\"\u001b[39m\u001b[38;5;124m1.4\u001b[39m\u001b[38;5;124m\"\u001b[39m,\n\u001b[0;32m   (...)\u001b[0m\n\u001b[1;32m    435\u001b[0m )\n\u001b[1;32m    436\u001b[0m \u001b[38;5;28;01mdef\u001b[39;00m \u001b[38;5;21m__new__\u001b[39m(\u001b[38;5;28mcls\u001b[39m, \u001b[38;5;241m*\u001b[39margs: Any, \u001b[38;5;241m*\u001b[39m\u001b[38;5;241m*\u001b[39mkw: Any) \u001b[38;5;241m-\u001b[39m\u001b[38;5;241m>\u001b[39m Any:\n\u001b[0;32m--> 437\u001b[0m     \u001b[38;5;28;01mreturn\u001b[39;00m \u001b[38;5;28;43mcls\u001b[39;49m\u001b[38;5;241;43m.\u001b[39;49m\u001b[43m_new\u001b[49m\u001b[43m(\u001b[49m\u001b[38;5;241;43m*\u001b[39;49m\u001b[43margs\u001b[49m\u001b[43m,\u001b[49m\u001b[43m \u001b[49m\u001b[38;5;241;43m*\u001b[39;49m\u001b[38;5;241;43m*\u001b[39;49m\u001b[43mkw\u001b[49m\u001b[43m)\u001b[49m\n",
      "File \u001b[0;32m/opt/conda/lib/python3.11/site-packages/sqlalchemy/sql/schema.py:491\u001b[0m, in \u001b[0;36mTable._new\u001b[0;34m(cls, *args, **kw)\u001b[0m\n\u001b[1;32m    489\u001b[0m     \u001b[38;5;28;01mreturn\u001b[39;00m table\n\u001b[1;32m    490\u001b[0m \u001b[38;5;28;01mexcept\u001b[39;00m \u001b[38;5;167;01mException\u001b[39;00m:\n\u001b[0;32m--> 491\u001b[0m \u001b[43m    \u001b[49m\u001b[38;5;28;43;01mwith\u001b[39;49;00m\u001b[43m \u001b[49m\u001b[43mutil\u001b[49m\u001b[38;5;241;43m.\u001b[39;49m\u001b[43msafe_reraise\u001b[49m\u001b[43m(\u001b[49m\u001b[43m)\u001b[49m\u001b[43m:\u001b[49m\n\u001b[1;32m    492\u001b[0m \u001b[43m        \u001b[49m\u001b[43mmetadata\u001b[49m\u001b[38;5;241;43m.\u001b[39;49m\u001b[43m_remove_table\u001b[49m\u001b[43m(\u001b[49m\u001b[43mname\u001b[49m\u001b[43m,\u001b[49m\u001b[43m \u001b[49m\u001b[43mschema\u001b[49m\u001b[43m)\u001b[49m\n",
      "File \u001b[0;32m/opt/conda/lib/python3.11/site-packages/sqlalchemy/util/langhelpers.py:147\u001b[0m, in \u001b[0;36msafe_reraise.__exit__\u001b[0;34m(self, type_, value, traceback)\u001b[0m\n\u001b[1;32m    145\u001b[0m     \u001b[38;5;28;01massert\u001b[39;00m exc_value \u001b[38;5;129;01mis\u001b[39;00m \u001b[38;5;129;01mnot\u001b[39;00m \u001b[38;5;28;01mNone\u001b[39;00m\n\u001b[1;32m    146\u001b[0m     \u001b[38;5;28mself\u001b[39m\u001b[38;5;241m.\u001b[39m_exc_info \u001b[38;5;241m=\u001b[39m \u001b[38;5;28;01mNone\u001b[39;00m  \u001b[38;5;66;03m# remove potential circular references\u001b[39;00m\n\u001b[0;32m--> 147\u001b[0m     \u001b[38;5;28;01mraise\u001b[39;00m exc_value\u001b[38;5;241m.\u001b[39mwith_traceback(exc_tb)\n\u001b[1;32m    148\u001b[0m \u001b[38;5;28;01melse\u001b[39;00m:\n\u001b[1;32m    149\u001b[0m     \u001b[38;5;28mself\u001b[39m\u001b[38;5;241m.\u001b[39m_exc_info \u001b[38;5;241m=\u001b[39m \u001b[38;5;28;01mNone\u001b[39;00m  \u001b[38;5;66;03m# remove potential circular references\u001b[39;00m\n",
      "File \u001b[0;32m/opt/conda/lib/python3.11/site-packages/sqlalchemy/sql/schema.py:487\u001b[0m, in \u001b[0;36mTable._new\u001b[0;34m(cls, *args, **kw)\u001b[0m\n\u001b[1;32m    485\u001b[0m metadata\u001b[38;5;241m.\u001b[39m_add_table(name, schema, table)\n\u001b[1;32m    486\u001b[0m \u001b[38;5;28;01mtry\u001b[39;00m:\n\u001b[0;32m--> 487\u001b[0m     \u001b[43mtable\u001b[49m\u001b[38;5;241;43m.\u001b[39;49m\u001b[38;5;21;43m__init__\u001b[39;49m\u001b[43m(\u001b[49m\u001b[43mname\u001b[49m\u001b[43m,\u001b[49m\u001b[43m \u001b[49m\u001b[43mmetadata\u001b[49m\u001b[43m,\u001b[49m\u001b[43m \u001b[49m\u001b[38;5;241;43m*\u001b[39;49m\u001b[43margs\u001b[49m\u001b[43m,\u001b[49m\u001b[43m \u001b[49m\u001b[43m_no_init\u001b[49m\u001b[38;5;241;43m=\u001b[39;49m\u001b[38;5;28;43;01mFalse\u001b[39;49;00m\u001b[43m,\u001b[49m\u001b[43m \u001b[49m\u001b[38;5;241;43m*\u001b[39;49m\u001b[38;5;241;43m*\u001b[39;49m\u001b[43mkw\u001b[49m\u001b[43m)\u001b[49m\n\u001b[1;32m    488\u001b[0m     table\u001b[38;5;241m.\u001b[39mdispatch\u001b[38;5;241m.\u001b[39mafter_parent_attach(table, metadata)\n\u001b[1;32m    489\u001b[0m     \u001b[38;5;28;01mreturn\u001b[39;00m table\n",
      "File \u001b[0;32m/opt/conda/lib/python3.11/site-packages/sqlalchemy/sql/schema.py:861\u001b[0m, in \u001b[0;36mTable.__init__\u001b[0;34m(self, name, metadata, schema, quote, quote_schema, autoload_with, autoload_replace, keep_existing, extend_existing, resolve_fks, include_columns, implicit_returning, comment, info, listeners, prefixes, _extend_on, _no_init, *args, **kw)\u001b[0m\n\u001b[1;32m    857\u001b[0m         event\u001b[38;5;241m.\u001b[39mlisten(\u001b[38;5;28mself\u001b[39m, evt, fn)\n\u001b[1;32m    859\u001b[0m \u001b[38;5;28mself\u001b[39m\u001b[38;5;241m.\u001b[39m_prefixes \u001b[38;5;241m=\u001b[39m prefixes \u001b[38;5;28;01mif\u001b[39;00m prefixes \u001b[38;5;28;01melse\u001b[39;00m []\n\u001b[0;32m--> 861\u001b[0m \u001b[38;5;28;43mself\u001b[39;49m\u001b[38;5;241;43m.\u001b[39;49m\u001b[43m_extra_kwargs\u001b[49m\u001b[43m(\u001b[49m\u001b[38;5;241;43m*\u001b[39;49m\u001b[38;5;241;43m*\u001b[39;49m\u001b[43mkw\u001b[49m\u001b[43m)\u001b[49m\n\u001b[1;32m    863\u001b[0m \u001b[38;5;66;03m# load column definitions from the database if 'autoload' is defined\u001b[39;00m\n\u001b[1;32m    864\u001b[0m \u001b[38;5;66;03m# we do it after the table is in the singleton dictionary to support\u001b[39;00m\n\u001b[1;32m    865\u001b[0m \u001b[38;5;66;03m# circular foreign keys\u001b[39;00m\n\u001b[1;32m    866\u001b[0m \u001b[38;5;28;01mif\u001b[39;00m autoload_with \u001b[38;5;129;01mis\u001b[39;00m \u001b[38;5;129;01mnot\u001b[39;00m \u001b[38;5;28;01mNone\u001b[39;00m:\n",
      "File \u001b[0;32m/opt/conda/lib/python3.11/site-packages/sqlalchemy/sql/schema.py:1009\u001b[0m, in \u001b[0;36mTable._extra_kwargs\u001b[0;34m(self, **kwargs)\u001b[0m\n\u001b[1;32m   1008\u001b[0m \u001b[38;5;28;01mdef\u001b[39;00m \u001b[38;5;21m_extra_kwargs\u001b[39m(\u001b[38;5;28mself\u001b[39m, \u001b[38;5;241m*\u001b[39m\u001b[38;5;241m*\u001b[39mkwargs: Any) \u001b[38;5;241m-\u001b[39m\u001b[38;5;241m>\u001b[39m \u001b[38;5;28;01mNone\u001b[39;00m:\n\u001b[0;32m-> 1009\u001b[0m     \u001b[38;5;28;43mself\u001b[39;49m\u001b[38;5;241;43m.\u001b[39;49m\u001b[43m_validate_dialect_kwargs\u001b[49m\u001b[43m(\u001b[49m\u001b[43mkwargs\u001b[49m\u001b[43m)\u001b[49m\n",
      "File \u001b[0;32m/opt/conda/lib/python3.11/site-packages/sqlalchemy/sql/base.py:599\u001b[0m, in \u001b[0;36mDialectKWArgs._validate_dialect_kwargs\u001b[0;34m(self, kwargs)\u001b[0m\n\u001b[1;32m    597\u001b[0m m \u001b[38;5;241m=\u001b[39m re\u001b[38;5;241m.\u001b[39mmatch(\u001b[38;5;124m\"\u001b[39m\u001b[38;5;124m^(.+?)_(.+)$\u001b[39m\u001b[38;5;124m\"\u001b[39m, k)\n\u001b[1;32m    598\u001b[0m \u001b[38;5;28;01mif\u001b[39;00m \u001b[38;5;129;01mnot\u001b[39;00m m:\n\u001b[0;32m--> 599\u001b[0m     \u001b[38;5;28;01mraise\u001b[39;00m \u001b[38;5;167;01mTypeError\u001b[39;00m(\n\u001b[1;32m    600\u001b[0m         \u001b[38;5;124m\"\u001b[39m\u001b[38;5;124mAdditional arguments should be \u001b[39m\u001b[38;5;124m\"\u001b[39m\n\u001b[1;32m    601\u001b[0m         \u001b[38;5;124m\"\u001b[39m\u001b[38;5;124mnamed <dialectname>_<argument>, got \u001b[39m\u001b[38;5;124m'\u001b[39m\u001b[38;5;132;01m%s\u001b[39;00m\u001b[38;5;124m'\u001b[39m\u001b[38;5;124m\"\u001b[39m \u001b[38;5;241m%\u001b[39m k\n\u001b[1;32m    602\u001b[0m     )\n\u001b[1;32m    603\u001b[0m dialect_name, arg_name \u001b[38;5;241m=\u001b[39m m\u001b[38;5;241m.\u001b[39mgroup(\u001b[38;5;241m1\u001b[39m, \u001b[38;5;241m2\u001b[39m)\n\u001b[1;32m    605\u001b[0m \u001b[38;5;28;01mtry\u001b[39;00m:\n",
      "\u001b[0;31mTypeError\u001b[0m: Additional arguments should be named <dialectname>_<argument>, got 'autoload'"
     ]
    }
   ],
   "source": [
    "road_type = dbh.read_db_to_df('all_recording_ids_road_type_tag', 'da_gds')"
   ]
  },
  {
   "cell_type": "code",
   "execution_count": null,
   "id": "f07f0a5e",
   "metadata": {},
   "outputs": [
    {
     "data": {
      "text/html": [
       "<div>\n",
       "<style scoped>\n",
       "    .dataframe tbody tr th:only-of-type {\n",
       "        vertical-align: middle;\n",
       "    }\n",
       "\n",
       "    .dataframe tbody tr th {\n",
       "        vertical-align: top;\n",
       "    }\n",
       "\n",
       "    .dataframe thead th {\n",
       "        text-align: right;\n",
       "    }\n",
       "</style>\n",
       "<table border=\"1\" class=\"dataframe\">\n",
       "  <thead>\n",
       "    <tr style=\"text-align: right;\">\n",
       "      <th></th>\n",
       "      <th>recording_id</th>\n",
       "      <th>file_name</th>\n",
       "      <th>segment</th>\n",
       "      <th>tag_name_list</th>\n",
       "      <th>start_datetime</th>\n",
       "      <th>end_datetime</th>\n",
       "      <th>write_to_db_date</th>\n",
       "    </tr>\n",
       "  </thead>\n",
       "  <tbody>\n",
       "    <tr>\n",
       "      <th>0</th>\n",
       "      <td>FH2369_20220128_064536</td>\n",
       "      <td>FH2369_20220128_064536_Bsw_ImgFrntRaw_000.mp4</td>\n",
       "      <td>0.0</td>\n",
       "      <td>[Road, Infrastructure, Overhead bridge]</td>\n",
       "      <td>2022-01-28 06:48:26.994</td>\n",
       "      <td>2022-01-28 06:48:27.994</td>\n",
       "      <td>2022/09/14_15:39:47</td>\n",
       "    </tr>\n",
       "    <tr>\n",
       "      <th>1</th>\n",
       "      <td>FH2369_20220128_064536</td>\n",
       "      <td>FH2369_20220128_064536_Bsw_ImgRiRaw_000.mp4</td>\n",
       "      <td>0.0</td>\n",
       "      <td>[Road, Infrastructure, Overhead bridge]</td>\n",
       "      <td>2022-01-28 06:48:26.994</td>\n",
       "      <td>2022-01-28 06:48:27.994</td>\n",
       "      <td>2022/09/14_15:39:47</td>\n",
       "    </tr>\n",
       "    <tr>\n",
       "      <th>2</th>\n",
       "      <td>FH2369_20220128_064536</td>\n",
       "      <td>FH2369_20220128_064536_Bsw_ImgReLeRaw_000.mp4</td>\n",
       "      <td>0.0</td>\n",
       "      <td>[Road, Infrastructure, Overhead bridge]</td>\n",
       "      <td>2022-01-28 06:48:26.994</td>\n",
       "      <td>2022-01-28 06:48:27.994</td>\n",
       "      <td>2022/09/14_15:39:47</td>\n",
       "    </tr>\n",
       "    <tr>\n",
       "      <th>3</th>\n",
       "      <td>FH2369_20220128_064536</td>\n",
       "      <td>FH2369_20220128_064536_Bsw_ImgReRiRaw_000.mp4</td>\n",
       "      <td>0.0</td>\n",
       "      <td>[Road, Infrastructure, Overhead bridge]</td>\n",
       "      <td>2022-01-28 06:48:26.994</td>\n",
       "      <td>2022-01-28 06:48:27.994</td>\n",
       "      <td>2022/09/14_15:39:47</td>\n",
       "    </tr>\n",
       "    <tr>\n",
       "      <th>4</th>\n",
       "      <td>FH2369_20220128_064536</td>\n",
       "      <td>FH2369_20220128_064536_Bsw_ImgLeRaw_000.mp4</td>\n",
       "      <td>0.0</td>\n",
       "      <td>[Road, Infrastructure, Overhead bridge]</td>\n",
       "      <td>2022-01-28 06:48:26.994</td>\n",
       "      <td>2022-01-28 06:48:27.994</td>\n",
       "      <td>2022/09/14_15:39:47</td>\n",
       "    </tr>\n",
       "    <tr>\n",
       "      <th>...</th>\n",
       "      <td>...</td>\n",
       "      <td>...</td>\n",
       "      <td>...</td>\n",
       "      <td>...</td>\n",
       "      <td>...</td>\n",
       "      <td>...</td>\n",
       "      <td>...</td>\n",
       "    </tr>\n",
       "    <tr>\n",
       "      <th>582933</th>\n",
       "      <td>UDM523_20220621_063547</td>\n",
       "      <td>None</td>\n",
       "      <td>NaN</td>\n",
       "      <td>None</td>\n",
       "      <td>NaT</td>\n",
       "      <td>NaT</td>\n",
       "      <td>2022/09/14_15:39:47</td>\n",
       "    </tr>\n",
       "    <tr>\n",
       "      <th>582934</th>\n",
       "      <td>UDM523_20220622_043948</td>\n",
       "      <td>None</td>\n",
       "      <td>NaN</td>\n",
       "      <td>None</td>\n",
       "      <td>NaT</td>\n",
       "      <td>NaT</td>\n",
       "      <td>2022/09/14_15:39:47</td>\n",
       "    </tr>\n",
       "    <tr>\n",
       "      <th>582935</th>\n",
       "      <td>UDM523_20220622_073944</td>\n",
       "      <td>None</td>\n",
       "      <td>NaN</td>\n",
       "      <td>None</td>\n",
       "      <td>NaT</td>\n",
       "      <td>NaT</td>\n",
       "      <td>2022/09/14_15:39:47</td>\n",
       "    </tr>\n",
       "    <tr>\n",
       "      <th>582936</th>\n",
       "      <td>UDM523_20220624_032345</td>\n",
       "      <td>None</td>\n",
       "      <td>NaN</td>\n",
       "      <td>None</td>\n",
       "      <td>NaT</td>\n",
       "      <td>NaT</td>\n",
       "      <td>2022/09/14_15:39:47</td>\n",
       "    </tr>\n",
       "    <tr>\n",
       "      <th>582937</th>\n",
       "      <td>UDM523_20220624_052537</td>\n",
       "      <td>None</td>\n",
       "      <td>NaN</td>\n",
       "      <td>None</td>\n",
       "      <td>NaT</td>\n",
       "      <td>NaT</td>\n",
       "      <td>2022/09/14_15:39:47</td>\n",
       "    </tr>\n",
       "  </tbody>\n",
       "</table>\n",
       "<p>582938 rows × 7 columns</p>\n",
       "</div>"
      ],
      "text/plain": [
       "                  recording_id                                      file_name  \\\n",
       "0       FH2369_20220128_064536  FH2369_20220128_064536_Bsw_ImgFrntRaw_000.mp4   \n",
       "1       FH2369_20220128_064536    FH2369_20220128_064536_Bsw_ImgRiRaw_000.mp4   \n",
       "2       FH2369_20220128_064536  FH2369_20220128_064536_Bsw_ImgReLeRaw_000.mp4   \n",
       "3       FH2369_20220128_064536  FH2369_20220128_064536_Bsw_ImgReRiRaw_000.mp4   \n",
       "4       FH2369_20220128_064536    FH2369_20220128_064536_Bsw_ImgLeRaw_000.mp4   \n",
       "...                        ...                                            ...   \n",
       "582933  UDM523_20220621_063547                                           None   \n",
       "582934  UDM523_20220622_043948                                           None   \n",
       "582935  UDM523_20220622_073944                                           None   \n",
       "582936  UDM523_20220624_032345                                           None   \n",
       "582937  UDM523_20220624_052537                                           None   \n",
       "\n",
       "        segment                            tag_name_list  \\\n",
       "0           0.0  [Road, Infrastructure, Overhead bridge]   \n",
       "1           0.0  [Road, Infrastructure, Overhead bridge]   \n",
       "2           0.0  [Road, Infrastructure, Overhead bridge]   \n",
       "3           0.0  [Road, Infrastructure, Overhead bridge]   \n",
       "4           0.0  [Road, Infrastructure, Overhead bridge]   \n",
       "...         ...                                      ...   \n",
       "582933      NaN                                     None   \n",
       "582934      NaN                                     None   \n",
       "582935      NaN                                     None   \n",
       "582936      NaN                                     None   \n",
       "582937      NaN                                     None   \n",
       "\n",
       "                start_datetime            end_datetime     write_to_db_date  \n",
       "0      2022-01-28 06:48:26.994 2022-01-28 06:48:27.994  2022/09/14_15:39:47  \n",
       "1      2022-01-28 06:48:26.994 2022-01-28 06:48:27.994  2022/09/14_15:39:47  \n",
       "2      2022-01-28 06:48:26.994 2022-01-28 06:48:27.994  2022/09/14_15:39:47  \n",
       "3      2022-01-28 06:48:26.994 2022-01-28 06:48:27.994  2022/09/14_15:39:47  \n",
       "4      2022-01-28 06:48:26.994 2022-01-28 06:48:27.994  2022/09/14_15:39:47  \n",
       "...                        ...                     ...                  ...  \n",
       "582933                     NaT                     NaT  2022/09/14_15:39:47  \n",
       "582934                     NaT                     NaT  2022/09/14_15:39:47  \n",
       "582935                     NaT                     NaT  2022/09/14_15:39:47  \n",
       "582936                     NaT                     NaT  2022/09/14_15:39:47  \n",
       "582937                     NaT                     NaT  2022/09/14_15:39:47  \n",
       "\n",
       "[582938 rows x 7 columns]"
      ]
     },
     "execution_count": 4,
     "metadata": {},
     "output_type": "execute_result"
    }
   ],
   "source": [
    "all_recording_ids_road_type_tag"
   ]
  },
  {
   "cell_type": "code",
   "execution_count": null,
   "id": "c968e926",
   "metadata": {},
   "outputs": [
    {
     "data": {
      "text/plain": [
       "array(['[Road, Infrastructure, Overhead bridge]',\n",
       "       '[Road, Type, Minor road public]', '[Road, Geometry, Crests]',\n",
       "       '[Road, Type, Motorway]', '[Road, Geometry, Highway exit]',\n",
       "       '[Road, Infrastructure, Traffic light]', None,\n",
       "       '[Road, Infrastructure, Overhead sign]',\n",
       "       '[Road, Type, City street]', '[Road, Infrastructure, Speed sign]',\n",
       "       '[Road, Infrastructure, Tunnel]',\n",
       "       '[Road, Geometry, 2-1 Lane merge]',\n",
       "       '[Road, Geometry, 1-2 Lane split and off ramps]',\n",
       "       '[Road, Infrastructure, Construction site]',\n",
       "       '[Road, Type, Primary highway]', '[Road, Type, Secondary highway]',\n",
       "       '[Road, Type, City Thoroughfare]', '[Road, Geometry, Roundabout]',\n",
       "       '[Road, Type, Minor road enclosed]',\n",
       "       '[Road, Infrastructure, Toll booth]',\n",
       "       '[Road, Infrastructure, National border crossing]',\n",
       "       '[Road, Type, Off-road]'], dtype=object)"
      ]
     },
     "execution_count": 5,
     "metadata": {},
     "output_type": "execute_result"
    }
   ],
   "source": [
    "all_recording_ids_road_type_tag['tag_name_list'].unique()"
   ]
  },
  {
   "cell_type": "code",
   "execution_count": null,
   "id": "c0417f5b",
   "metadata": {},
   "outputs": [],
   "source": [
    "road_type = all_recording_ids_road_type_tag[((all_recording_ids_road_type_tag['tag_name_list'] == '[Road, Type, Primary highway]')\\\n",
    "            |(all_recording_ids_road_type_tag['tag_name_list'] == '[Road, Type, Secondary highway]') \\\n",
    "            |(all_recording_ids_road_type_tag['tag_name_list'] == '[Road, Type, Motorway]')) & ((all_recording_ids_road_type_tag['recording_id'] == recording_id[0]))]"
   ]
  },
  {
   "cell_type": "code",
   "execution_count": null,
   "id": "1a8520e8",
   "metadata": {},
   "outputs": [],
   "source": [
    "# np.sort(road_type['start_datetime'].unique())\n",
    "highway_time = road_type[['start_datetime','end_datetime']].drop_duplicates().sort_values(by=['start_datetime'])"
   ]
  },
  {
   "cell_type": "code",
   "execution_count": null,
   "id": "6447a012",
   "metadata": {},
   "outputs": [
    {
     "data": {
      "text/html": [
       "<div>\n",
       "<style scoped>\n",
       "    .dataframe tbody tr th:only-of-type {\n",
       "        vertical-align: middle;\n",
       "    }\n",
       "\n",
       "    .dataframe tbody tr th {\n",
       "        vertical-align: top;\n",
       "    }\n",
       "\n",
       "    .dataframe thead th {\n",
       "        text-align: right;\n",
       "    }\n",
       "</style>\n",
       "<table border=\"1\" class=\"dataframe\">\n",
       "  <thead>\n",
       "    <tr style=\"text-align: right;\">\n",
       "      <th></th>\n",
       "      <th>start_datetime</th>\n",
       "      <th>end_datetime</th>\n",
       "    </tr>\n",
       "  </thead>\n",
       "  <tbody>\n",
       "    <tr>\n",
       "      <th>254233</th>\n",
       "      <td>2022-03-22 14:19:47.506</td>\n",
       "      <td>2022-03-22 14:27:51.505</td>\n",
       "    </tr>\n",
       "    <tr>\n",
       "      <th>254573</th>\n",
       "      <td>2022-03-22 14:28:27.505</td>\n",
       "      <td>2022-03-22 14:36:02.505</td>\n",
       "    </tr>\n",
       "    <tr>\n",
       "      <th>254618</th>\n",
       "      <td>2022-03-22 14:36:05.505</td>\n",
       "      <td>2022-03-22 14:36:29.505</td>\n",
       "    </tr>\n",
       "    <tr>\n",
       "      <th>254293</th>\n",
       "      <td>2022-03-22 14:41:32.505</td>\n",
       "      <td>2022-03-22 14:42:02.505</td>\n",
       "    </tr>\n",
       "    <tr>\n",
       "      <th>254313</th>\n",
       "      <td>2022-03-22 14:42:03.505</td>\n",
       "      <td>2022-03-22 14:43:22.505</td>\n",
       "    </tr>\n",
       "    <tr>\n",
       "      <th>254323</th>\n",
       "      <td>2022-03-22 14:44:00.505</td>\n",
       "      <td>2022-03-22 14:45:14.505</td>\n",
       "    </tr>\n",
       "    <tr>\n",
       "      <th>254378</th>\n",
       "      <td>2022-03-22 14:52:56.406</td>\n",
       "      <td>2022-03-22 14:57:39.406</td>\n",
       "    </tr>\n",
       "    <tr>\n",
       "      <th>254368</th>\n",
       "      <td>2022-03-22 14:57:41.406</td>\n",
       "      <td>2022-03-22 14:59:26.405</td>\n",
       "    </tr>\n",
       "    <tr>\n",
       "      <th>254408</th>\n",
       "      <td>2022-03-22 14:59:27.405</td>\n",
       "      <td>2022-03-22 15:00:09.405</td>\n",
       "    </tr>\n",
       "    <tr>\n",
       "      <th>254483</th>\n",
       "      <td>2022-03-22 15:04:59.405</td>\n",
       "      <td>2022-03-22 15:08:18.405</td>\n",
       "    </tr>\n",
       "    <tr>\n",
       "      <th>254468</th>\n",
       "      <td>2022-03-22 15:08:20.405</td>\n",
       "      <td>2022-03-22 15:09:23.405</td>\n",
       "    </tr>\n",
       "    <tr>\n",
       "      <th>254453</th>\n",
       "      <td>2022-03-22 15:09:27.405</td>\n",
       "      <td>2022-03-22 15:09:48.405</td>\n",
       "    </tr>\n",
       "    <tr>\n",
       "      <th>254513</th>\n",
       "      <td>2022-03-22 15:09:50.405</td>\n",
       "      <td>2022-03-22 15:12:56.405</td>\n",
       "    </tr>\n",
       "    <tr>\n",
       "      <th>254528</th>\n",
       "      <td>2022-03-22 15:13:57.405</td>\n",
       "      <td>2022-03-22 15:19:46.404</td>\n",
       "    </tr>\n",
       "  </tbody>\n",
       "</table>\n",
       "</div>"
      ],
      "text/plain": [
       "                start_datetime            end_datetime\n",
       "254233 2022-03-22 14:19:47.506 2022-03-22 14:27:51.505\n",
       "254573 2022-03-22 14:28:27.505 2022-03-22 14:36:02.505\n",
       "254618 2022-03-22 14:36:05.505 2022-03-22 14:36:29.505\n",
       "254293 2022-03-22 14:41:32.505 2022-03-22 14:42:02.505\n",
       "254313 2022-03-22 14:42:03.505 2022-03-22 14:43:22.505\n",
       "254323 2022-03-22 14:44:00.505 2022-03-22 14:45:14.505\n",
       "254378 2022-03-22 14:52:56.406 2022-03-22 14:57:39.406\n",
       "254368 2022-03-22 14:57:41.406 2022-03-22 14:59:26.405\n",
       "254408 2022-03-22 14:59:27.405 2022-03-22 15:00:09.405\n",
       "254483 2022-03-22 15:04:59.405 2022-03-22 15:08:18.405\n",
       "254468 2022-03-22 15:08:20.405 2022-03-22 15:09:23.405\n",
       "254453 2022-03-22 15:09:27.405 2022-03-22 15:09:48.405\n",
       "254513 2022-03-22 15:09:50.405 2022-03-22 15:12:56.405\n",
       "254528 2022-03-22 15:13:57.405 2022-03-22 15:19:46.404"
      ]
     },
     "execution_count": 9,
     "metadata": {},
     "output_type": "execute_result"
    }
   ],
   "source": [
    "highway_time"
   ]
  },
  {
   "cell_type": "code",
   "execution_count": null,
   "id": "eeab827f",
   "metadata": {},
   "outputs": [],
   "source": []
  },
  {
   "cell_type": "code",
   "execution_count": null,
   "id": "93764315",
   "metadata": {},
   "outputs": [],
   "source": [
    "# sys.path.append('/mnt/proj/adas-daas/team_data_analysis/Lingbin_Bokuan')"
   ]
  },
  {
   "cell_type": "code",
   "execution_count": 8,
   "id": "156b0ad2-98b0-4867-a2cd-e3284f41941a",
   "metadata": {},
   "outputs": [],
   "source": [
    "config_path = '../config.yaml'"
   ]
  },
  {
   "cell_type": "code",
   "execution_count": 9,
   "id": "35ecf044",
   "metadata": {},
   "outputs": [],
   "source": [
    "from scripts.dataloader import OnlineSpark\n",
    "session = OnlineSpark(config_path,size='small')"
   ]
  },
  {
   "cell_type": "code",
   "execution_count": 7,
   "id": "7c3b476a",
   "metadata": {},
   "outputs": [
    {
     "ename": "NameError",
     "evalue": "name 'session' is not defined",
     "output_type": "error",
     "traceback": [
      "\u001b[0;31m---------------------------------------------------------------------------\u001b[0m",
      "\u001b[0;31mNameError\u001b[0m                                 Traceback (most recent call last)",
      "Cell \u001b[0;32mIn[7], line 1\u001b[0m\n\u001b[0;32m----> 1\u001b[0m \u001b[43msession\u001b[49m\u001b[38;5;241m.\u001b[39mpath_dict\n",
      "\u001b[0;31mNameError\u001b[0m: name 'session' is not defined"
     ]
    }
   ],
   "source": [
    "session.path_dict"
   ]
  },
  {
   "cell_type": "markdown",
   "id": "bc01098d",
   "metadata": {},
   "source": [
    "Reference V2 instruction: https://volvogroup.sharepoint.com/:x:/r/sites/unit-dava/_layouts/15/Doc.aspx?sourcedoc=%7B8353B7B1-9F7B-40B7-8212-14DD6E5AEC15%7D&file=OSI_parquet_naming_conventions_explanations.xlsx&action=default&mobileredirect=true"
   ]
  },
  {
   "cell_type": "code",
   "execution_count": 8,
   "id": "cf34d05f",
   "metadata": {},
   "outputs": [],
   "source": [
    "ego = session.loadParquet('avl_reference','ego',record_id=recording_id[0])"
   ]
  },
  {
   "cell_type": "code",
   "execution_count": 9,
   "id": "5a929f8b",
   "metadata": {},
   "outputs": [
    {
     "name": "stdout",
     "output_type": "stream",
     "text": [
      "+---------------+-------------+-------------+-------------------+------------------+--------------------+--------------------+--------------------+------------------+-------------------+------------------+-------------------+--------------------+--------------------+--------------------+--------------------+--------------------+--------------------+--------------------+-------+----------+-----------------+\n",
      "|       ptp_time|MessageNumber|ReferenceType|          PositionX|         PositionY|           PositionZ|                Roll|               Pitch|               Yaw|          VelocityX|         VelocityY|          VelocityZ|       AccelerationX|       AccelerationY|       AccelerationZ|            RollRate|           PitchRate|             YawRate|        recording_id|vehicle|sw_version|__index_level_0__|\n",
      "+---------------+-------------+-------------+-------------------+------------------+--------------------+--------------------+--------------------+------------------+-------------------+------------------+-------------------+--------------------+--------------------+--------------------+--------------------+--------------------+--------------------+--------------------+-------+----------+-----------------+\n",
      "|1.64796027671E9|            0|          Ego|  -7.91877003776608| 5.203572503756732| 0.02830450050532818|-0.02564514444319...|8.439030628203908E-4|2.5520997891502057|-19.336520044374996|12.731731013192634|0.33322667789345234|-0.12972528064447433| 0.25488706846644726|-0.00578166579887...|-0.00152018746237...|0.003194934573722...|0.001202110460857...|FH2369_20220322_1...| FH2369|     1.1.8|           106159|\n",
      "|1.64796027681E9|            1|          Ego| -9.850558296078816| 6.477611299138516|0.031703073531389236|-0.02552897662003...|0.001209537341774...|2.5517610191128464|-19.335403371284478|12.732642195045448|0.28921970405812464|-0.05603479101245...| 0.07999886450481405|-0.19050123841420047|-0.00128644852765...|-0.00229831993325...|-0.00555055154068...|FH2369_20220322_1...| FH2369|     1.1.8|           106160|\n",
      "|1.64796027691E9|            2|          Ego|-11.782376032264438| 7.752070491202176|0.033677066676318645|-0.02560470627007...|0.001522000026842...| 2.551494447953827| -19.33716631796284|12.733803857846334|0.26852499694695003| -0.0826250098743889| 0.01858422731687724|-0.19508734368305491|2.423072066384481...|-0.00374050321286...|-0.00315531922716...|FH2369_20220322_1...| FH2369|     1.1.8|           106161|\n",
      "|1.64796027701E9|            3|          Ego| -13.71378947008634| 9.026616764254868| 0.03505827486515045|-0.02587245210005363|0.001332226775634...| 2.551351508853785| -19.32308984504034|12.739478301612815| 0.2849105255683681|  0.1930216659187503|   0.075679522078498|-0.01458768076881807|0.003124746013393...|0.003932185239935655|-7.78216530408111...|FH2369_20220322_1...| FH2369|     1.1.8|           106162|\n",
      "|1.64796027711E9|            4|          Ego|-15.642096593917813|10.300684389658272| 0.03716777823865414|-0.02567641781956509|9.532218573943469E-4| 2.551182520839304|-19.325879663486226|12.739843681571898| 0.3037291144538509|-0.07861938711774717|-0.09422216416172056|  0.1982958127886703|-7.79702201099763...|0.004416122589713265|9.650281560429732E-4|FH2369_20220322_1...| FH2369|     1.1.8|           106163|\n",
      "|1.64796027721E9|            5|          Ego|  -17.5715769729577|11.574099282268435| 0.04048510827124119|-0.02602662311559...|4.504334127510666E-4| 2.551177277912962|-19.356617889499358|12.730017343393536|0.34210173373646713|-0.40161724173784435|-0.05823360789638074| 0.35201842941212264| 0.00824989078113372|-0.00148779642403...|-0.00163326702855...|FH2369_20220322_1...| FH2369|     1.1.8|           106164|\n",
      "|1.64796027731E9|            6|          Ego|  -19.5039767921553| 12.84674338111654| 0.04560651443898678|-0.02723183736987...|6.543249452588897E-4|2.5510971888413456| -19.38979092490862|12.725270284699105| 0.3597721057165603| -0.5200639426792977|  0.1994967826232204| 0.13787079569277716|0.011737285221151087|-0.01005347566799...|-0.00148588138563...|FH2369_20220322_1...| FH2369|     1.1.8|           106165|\n",
      "|1.64796027741E9|            7|          Ego| -21.43889994447818|14.119125291705132|0.051803043112158775|-0.02876451376780...|0.001321767900853...|2.5510493319082483|-19.398354130230263|12.708260533225902|    0.3604324956675|-0.16629973588653693| -0.2175767570407815|-0.04929290742148...|0.013452189905659535|-0.01290413058997...|1.784091717735759...|FH2369_20220322_1...| FH2369|     1.1.8|           106166|\n",
      "|1.64796027751E9|            8|          Ego|-23.373827151255682|15.389911838807166|0.058542655780911446|-0.03059841428286...|0.001724691922474...|2.5508278573054515| -19.39082323387045|12.695910809792668|0.36832433529281866| 0.08417932815721516| -0.1541441164064113|9.097855381315107E-4|0.013664118351026272|-0.01284795239952...|-9.54443383252455...|FH2369_20220322_1...| FH2369|     1.1.8|           106167|\n",
      "|1.64796027761E9|            9|          Ego| -25.30777982022846|16.660079829394817| 0.06491830572485924|-0.03224239901698115|0.001249024984794...|2.5511292455881542| -19.37503560292721|12.690211199625688| 0.3982318300050012|  0.1386661267964153|0.003472642566357...|-0.05869867194262...|0.022592033101660667|2.155119751987948E-4|0.002963050764425...|FH2369_20220322_1...| FH2369|     1.1.8|           106168|\n",
      "|1.64796027771E9|           10|          Ego|-27.240907467145007|17.930102196056396| 0.07091303169727325|-0.03345235079038595|6.137393930419991E-4|2.5513207193506817| -19.37914205728702|12.696079363874157|0.43738734691391434|-0.08668597053936235|  0.2953255317617986|-0.16993160945685568|0.012408801226947468|-0.00144781653526...|-3.34615043714577...|FH2369_20220322_1...| FH2369|     1.1.8|           106169|\n",
      "|1.64796027781E9|           11|          Ego|  -29.1752253951272| 19.20224189432338| 0.07589229755103588|-0.03387699104474...|7.078819250362725E-4|2.5515299330943333|-19.394823197908565|12.714169699339383|0.43621892948105484|-0.01848818646744...|-0.13920460754304456| -0.2244981509265945|-0.00141237092898...|-0.00740274091133...|0.002696052833518724|FH2369_20220322_1...| FH2369|     1.1.8|           106170|\n",
      "|1.64796027791E9|           12|          Ego|-31.110766888596117| 20.47552212374285| 0.08016424626111984|-0.03395780951053366|0.001210810300336...| 2.551681047425002|-19.402985053636588|12.726363713161327|0.40804735152185984|-0.05302985526311827|0.029473753090366633|-0.02260258145836409|-0.00682125013903...|-0.00934431964290...|0.002743523873472...|FH2369_20220322_1...| FH2369|     1.1.8|           106171|\n",
      "|1.64796027801E9|           13|          Ego|-33.046508354716934|21.748432710766792| 0.08308606594800949|-0.03377390342674015|0.001794664030858...| 2.551971680164732|-19.396415568310125|12.718937454125752|0.35523654690827344|-0.01136807447403...|0.023893905285192397|-0.27026901602743325|-0.00330041724222...|-0.00253661306777...|0.002629710436713161|FH2369_20220322_1...| FH2369|     1.1.8|           106172|\n",
      "|1.64796027811E9|           14|          Ego|-34.983335329801776| 23.01924162171781| 0.08410669211298227|-0.03376652554679741|0.002148431405663...| 2.552589919154112|-19.398269285953234|12.694482291589123| 0.3291053323641979|-0.03801108185633715|-0.15863907474823755|-0.16418754502452762|-4.00694443794571...|-0.00228363151071...|0.005396628276180313|FH2369_20220322_1...| FH2369|     1.1.8|           106173|\n",
      "|1.64796027821E9|           15|          Ego| -36.92140248208307| 24.28848841274157| 0.08389792591333389|-0.03416499665046...|0.002571767735522083|2.5528756582019065|-19.409516992714067| 12.68759646085055| 0.3123297345480129|-0.06331253269145377|-0.05811589581896083| 0.04592360049876871|-0.00186557565178...|-0.01039761574313...|0.004278882585466972|FH2369_20220322_1...| FH2369|     1.1.8|           106174|\n",
      "|1.64796027831E9|           16|          Ego|-38.859849646512885|25.557316264137626| 0.08339121006429195|-0.03432832069344...|0.002741629468474317|2.5532748851744635| -19.41266328742231|12.685959795696714|0.30851792191696337|-0.07270151984299494| -0.0818479410239587| 0.11103762175969385|0.002982885733903...|2.853596113030993...|0.004182607937151672|FH2369_20220322_1...| FH2369|     1.1.8|           106175|\n",
      "|1.64796027841E9|           17|          Ego| -40.79850561195053| 26.82606041850522| 0.08337526675313711|-0.03415182768742...| 0.00332175413844887|2.5538745187507237|-19.405899761643052|12.688455294243543|0.28139371522996826|-0.01167654857142...|  0.1224425812762807|-0.06477633608757101|-0.00556853461949...|-0.00180298498761...|0.005878770331689071|FH2369_20220322_1...| FH2369|     1.1.8|           106176|\n",
      "|1.64796027851E9|           18|          Ego|-42.736484426946845| 28.09420948382467| 0.08350634947419167|-0.03367389769450933|0.003578642219324...|2.5544634008366254|-19.395772460491038|12.681734139853322|0.26886409097805414| 0.22486396540421896|-0.02498658173527433|-0.04292214765927378|-0.00713653896854...|0.002737487351187914|0.004813246676817426|FH2369_20220322_1...| FH2369|     1.1.8|           106177|\n",
      "|1.64796027861E9|           19|          Ego| -44.67398030444747|29.362245093565434|  0.0837044408544898|-0.03267926538606...|0.003691449158903...|  2.55504832023204|-19.401156143120126|12.674173818381801|0.25518385134554367|-0.02374137385342...|-0.24481644173364164|0.011365606621059541|    -0.0108910965205|-2.20953726656991...|0.007083836095509163|FH2369_20220322_1...| FH2369|     1.1.8|           106178|\n",
      "|1.64796027871E9|           20|          Ego| -46.61168846033979| 30.62895842315629| 0.08409140165895224|-0.03169837511832...|0.003441877444030...| 2.555856955093137| -19.40374262785724|12.660267386208028| 0.2533610118961894|-0.14771775470530987| -0.1928393359056072| 0.15326232572807638|-0.00692627084694...|0.003338808563404692|0.008887494706080867|FH2369_20220322_1...| FH2369|     1.1.8|           106179|\n",
      "|1.64796027881E9|           21|          Ego| -48.55023665580666|31.894276881124824| 0.08437248133122921|-0.03081820712915859|0.003174874888954...| 2.556620278641955|-19.406610362547134|12.653000672610183| 0.2454159075730617|-0.17384257377826742|  0.1094937163347953|-0.05916635265397902|-0.00448849319737...|0.010567652814685333|0.007969746967922714|FH2369_20220322_1...| FH2369|     1.1.8|           106180|\n",
      "|1.64796027891E9|           22|          Ego|-50.489789047976956|  33.1582731991075| 0.08345462754368782|-0.03001508480198...| 0.00342315331137594|2.5574910042342163|-19.423725316189707|12.639771850799374| 0.2109732383107115|-0.07456903345448078| -0.0799262371049082| -0.2192299506394455|-0.00973892161469...|-9.32095779291256...| 0.00836746217523679|FH2369_20220322_1...| FH2369|     1.1.8|           106181|\n",
      "|1.64796027901E9|           23|          Ego|-52.431472356722225| 34.42100152280182| 0.08094040863215923|-0.02956091523782638|0.003899361782891...| 2.558134288468184|-19.444768176153836|12.622732049556015|0.17023211419576784|-0.02448984544982...|-0.23068763812438361|-0.15950629598071833|-0.00679587379910...|-0.00538149539238...|0.008515852067201938|FH2369_20220322_1...| FH2369|     1.1.8|           106182|\n",
      "|1.64796027911E9|           24|          Ego|    -54.37533302058| 35.68290528235957| 0.07721818331629038|-0.02942471674798936|0.004207024106799918|2.5588307034296474|-19.448033729756883|12.588116376714794|0.15672429605832044|-0.06890659417698543|  -0.366932201213667| 0.10711187146924199|0.002262387445642...|0.002549187277841389|0.006142465830224318|FH2369_20220322_1...| FH2369|     1.1.8|           106183|\n",
      "|1.64796027921E9|           25|          Ego| -56.32004050898831| 36.94178707478568| 0.07378305774182081|-0.02976845126692327|0.004422325667915823|2.5596417994010436|-19.451254191962907|12.556159684367534|0.15859028767037542|-0.06827577174927019|-0.30445836008360283| 0.05768428067222886|0.004365568523332622|-0.00291690946562...|0.008048794547201038|FH2369_20220322_1...| FH2369|     1.1.8|           106184|\n",
      "|1.64796027931E9|           26|          Ego| -58.26529208989814| 38.19721614802256|  0.0717161288484931|-0.03063200529445...|0.004086411357948121| 2.560312822275786|-19.459906829147354|12.523096796495572|0.20432037802287417|  0.0351097020015365| -0.2358161074227181| 0.21814980345960666|0.006267059213360364|-0.00610757161381...|0.007492568183184648|FH2369_20220322_1...| FH2369|     1.1.8|           106185|\n",
      "|1.64796027941E9|           27|          Ego| -60.21196126699215|39.450315752997994| 0.07187913544476032|-0.03170100892462032|0.003654918020601...|2.5610719309455665| -19.48300980605015|12.500223327913208|  0.251994117317876|-0.16623756392776703|-0.08921532925160572| 0.06756006298200465| 0.01094936043442386|-0.00315965277907...|0.007239697051036764|FH2369_20220322_1...| FH2369|     1.1.8|           106186|\n",
      "|1.64796027951E9|           28|          Ego|-62.159930501074996| 40.70194523455575| 0.07355498801916838|-0.03270064206383163|0.003598561944259056|2.5617395312785196|-19.492582471565495|12.484014031371398| 0.2828199375580927|-0.18202067616299714|-0.16332847808978349| 0.31066466001961485|0.009683173292797637|-0.00402696439963...|0.007363804947175027|FH2369_20220322_1...| FH2369|     1.1.8|           106187|\n",
      "|1.64796027961E9|           29|          Ego| -64.10878246021457| 41.95235451916233|  0.0763193629682064|-0.03373226535326464|0.003891158653041...| 2.562545828958207|-19.496419646597012|12.478215720862664| 0.2833715851394085|-0.07969690157236776|-0.08276979690716232|  -0.074784437147924|0.005131112467466087|-0.00581625698578...|0.006901088471259184|FH2369_20220322_1...| FH2369|     1.1.8|           106188|\n",
      "|1.64796027971E9|           30|          Ego| -66.05732369050384| 43.20216022571549| 0.07736225798726082| -0.0341103682905191|0.004242524652207495| 2.563209783213283|-19.486258102132428|12.476768763481253| 0.2475127815637378| 0.22351758630120802|-0.07152839933663477|-0.20925186795883385|-0.00175951328117...|-0.00411944561222...|0.009801369229094348|FH2369_20220322_1...| FH2369|     1.1.8|           106189|\n",
      "|1.64796027981E9|           31|          Ego| -68.00529058888787|44.450990905053914| 0.07606011349707842|  -0.034083078928755|0.004301373758133336|2.5640132257234325| -19.48594756398581|12.457053744436228| 0.2121634781098687|-0.01140336459436...|-0.18904844088503425|  -0.578131165372974|0.001755401805372...|0.002613268747794717| 0.00815942617921803|FH2369_20220322_1...| FH2369|     1.1.8|           106190|\n",
      "|1.64796027991E9|           32|          Ego| -69.95344650710467|45.698816143441945| 0.07238104566931725|-0.03377149591986...|0.004404917299882429| 2.564586737146549|-19.486533562718538|12.455288429655079| 0.1944632682104086|  0.0212188539142681|-0.06111313291940197|-0.10439338007497335|-0.00203071355201...|0.004486366486728009|0.005357475184840...|FH2369_20220322_1...| FH2369|     1.1.8|           106191|\n",
      "|1.64796028001E9|           33|          Ego| -71.90169327327749| 46.94591404031962| 0.06751703657209873|-0.03320855833841...|0.004767539485591917|2.5652817007520587|-19.491031427612644|12.454991718467461|0.16497021608143653|-0.12692723360722144|-0.10264602769818824| 0.07958102981070442|-0.01050917919436...|0.001537082171030...|0.009825815924677064|FH2369_20220322_1...| FH2369|     1.1.8|           106192|\n",
      "|1.64796028011E9|           34|          Ego| -73.85054806637345|48.189711266197264| 0.06159069389104843|-0.03247681428244073|0.004926803409800873| 2.566225689306434|-19.486326311458207|12.430634215966444|0.14538359694682526| 0.14194669811056856|-0.11490941259113605| 0.03251159307810943|-0.00603674611412...|0.005880436830332383|0.009665005480525318|FH2369_20220322_1...| FH2369|     1.1.8|           106193|\n",
      "|1.64796028021E9|           35|          Ego| -75.79973792121746|49.431530103087425|  0.0563636664301157|-0.03150138520147742|0.005063756573196028|2.5673538451142375|-19.493918344524946|12.407602832203562| 0.1401083067788452|-0.13322647045778044|-0.24308020455639007|0.061315683895330236|-0.00527405816668...|0.007195040425630227|0.007900217025692123|FH2369_20220322_1...| FH2369|     1.1.8|           106194|\n",
      "|1.64796028031E9|           36|          Ego| -77.74898777581984|50.671631114091724| 0.05276960879564285|-0.03018072436573...|0.005135249189994...| 2.568319670727875|  -19.4904363423956| 12.39345182723523|0.14592386402718982|-0.01591637868179...| -0.3434583395692938| 0.19787907620071768|-0.01302575369357...|0.006954606150548279|0.010030910227297421|FH2369_20220322_1...| FH2369|     1.1.8|           106195|\n",
      "|1.64796028041E9|           37|          Ego|  -79.6982913937536| 51.90887459786609|  0.0511633325368166|-0.02910826611281...|0.004791158002206...| 2.569474793834718|-19.494886604878147| 12.36406015214952|0.16050310955922922|-0.09776336027191918|-0.31370587144310513| 0.08807388262136386|-0.00805058467909...|0.006576853958261...|0.014182493895803111|FH2369_20220322_1...| FH2369|     1.1.8|           106196|\n",
      "|1.64796028051E9|           38|          Ego| -81.64860536548076|53.143244192004204|  0.0501713901758194|-0.02834128088118115|0.004284991293258659| 2.570560049860502|-19.504476996795436|12.337449707407435|0.17783803692058317| 0.09331459299078952|  -0.284849467978171| 0.11756926223103367|-0.00455940468143...|0.006224572090484681| 0.01007566240315675|FH2369_20220322_1...| FH2369|     1.1.8|           106197|\n",
      "|1.64796028061E9|           39|          Ego|  -83.6006207188475| 54.37499432824552| 0.05017410218715668|-0.02791863215687...|0.003960285106515382| 2.571493230650362| -19.53711013333498|12.299320063711692|0.19326739816181016|-0.43830601489596815|-0.41144495401441733| 0.23312444875264027|-2.92278467493360...|-3.23279907183171...|0.007287508650432401|FH2369_20220322_1...| FH2369|     1.1.8|           106198|\n",
      "|1.64796028071E9|           40|          Ego|  -85.5542119856691| 55.60273509519175| 0.05048217065632343|-0.02843110615133969|0.003818991296267113|2.5724717285021153|-19.542505278492936|12.263563554790824| 0.1998374432950365| -0.2096211158698209| -0.3628571109647452| -0.0917690286884577|0.004475326209373142|-0.00478106917194...|0.010806971338985385|FH2369_20220322_1...| FH2369|     1.1.8|           106199|\n",
      "|1.64796028081E9|           41|          Ego|    -87.50831540738| 56.82745117135346|0.050634841434657574|-0.02895622116245...|0.003306455344247859| 2.573486028294597|-19.539619026214325| 12.23852597209136|0.22096981310518887|-0.08377954436745097|-0.21497392351785885|-0.16621871876401428|0.006960602514336077|0.003865491414913...| 0.01142241565109548|FH2369_20220322_1...| FH2369|     1.1.8|           106200|\n",
      "|1.64796028091E9|           42|          Ego| -89.46327804995235|58.049805709160864| 0.05014595575630665|-0.02945971620263...|0.002883707596254...| 2.574306044609492|-19.554088069810838| 12.21650528036135|0.24558168371888767|0.012746925802276272|-0.15726999434106168|0.023878275004524586|0.005817314631977623|-6.68336771734757...|0.007618410906658613|FH2369_20220322_1...| FH2369|     1.1.8|           106201|\n",
      "|1.64796028101E9|           43|          Ego| -91.41948070679791|59.270258587319404|0.049580249935388565|-0.03032661655590253|0.002628847037977454| 2.575041673650851|-19.572173578379125|12.198502643873393| 0.2618905528060216| -0.2484911581208541|-0.11511616476913138| 0.08688297549531955|0.006586705298676...|-0.00491757384554...|0.006983404581718581|FH2369_20220322_1...| FH2369|     1.1.8|           106202|\n",
      "|1.64796028111E9|           44|          Ego| -93.37526769709075| 60.48926794528961| 0.04977009352296591|-0.03093071386725...|0.002804545699037...| 2.575845976677796| -19.57825652716008|12.190467133853796| 0.2529260714554825| -0.2805015352499974|-0.17169820980131517|0.057613881171349274|0.006806157466462421|-0.00111201349223...|0.007431330703136297|FH2369_20220322_1...| FH2369|     1.1.8|           106203|\n",
      "|1.64796028121E9|           45|          Ego|  -95.3313635677332| 61.70687363529578|0.050177738070487976|-0.03120892721364...|0.003374781247490059|2.5766931143104026|-19.580112238809715|12.172813187005817|0.23398726160304073| -0.2376584865074366|-0.27396422729564485| 0.21435862811064244|-0.00203795904139...|-0.00663857048180...| 0.01061067698480757|FH2369_20220322_1...| FH2369|     1.1.8|           106204|\n",
      "|1.64796028131E9|           46|          Ego| -97.28767882671673|62.920927106402814| 0.05055161193013191|-0.03193842168069101|0.003527797547116612|2.5775090236882563| -19.58308979636349|12.137559460954613| 0.2284528021051343|-0.09845498327657101| -0.1347829021980827| -0.0774302128442785| 0.00526548379037326|-0.00706209179566...|0.006696913277268...|FH2369_20220322_1...| FH2369|     1.1.8|           106205|\n",
      "|1.64796028141E9|           47|          Ego| -99.24533794855233| 64.13280616607517|0.050703090615570545|-0.03319645654642809|0.003582913170251...| 2.578236901854769|-19.593630013341386|12.113760363581068|0.23858082767506658| 0.05227032978621062|-0.19506694446307532|-0.10946166835310868|0.012861267495567952|-0.00919366082240...|0.005437129420725651|FH2369_20220322_1...| FH2369|     1.1.8|           106206|\n",
      "|1.64796028151E9|           48|          Ego|-101.20337534538703| 65.34386021224782|0.051035502925515175|-0.03435018656976253|0.004074253002346051|2.5786864340365843|-19.598317971694044|12.113001536008753|0.23991509093860286|0.001899727959603...|-0.14400595110341657| 0.04738899553284518|0.008766253902178823|-0.01183733490538461|0.003654806607912446|FH2369_20220322_1...| FH2369|     1.1.8|           106207|\n",
      "|1.64796028161E9|           49|          Ego|-103.16098904819228| 66.55493037588894|0.052098117768764496|-0.03518266003086758|0.004641312710844507|2.5791147410479893|-19.582265204683942|12.114166833240917|0.23113642335570933| 0.18745784060621665|-0.11879385209194596|0.053169245571210534|0.003307427841390544|-0.00598840108064...|0.006267478197324032|FH2369_20220322_1...| FH2369|     1.1.8|           106208|\n",
      "|1.64796028171E9|           50|          Ego|-105.11691457341658| 67.76488030562177|  0.0533283706754446|-0.03579821555627289|0.004717113601877388| 2.579283713614663|-19.564438195585232| 12.10617705057532|0.23597442591977466| 0.22972521958246603| 0.21717468730451978|-0.04070922861669499|0.004676402806548544|-0.00146033073762...|0.001174625231515645|FH2369_20220322_1...| FH2369|     1.1.8|           106209|\n",
      "|1.64796028181E9|           51|          Ego|-107.07141170621617| 68.97466018376872|0.055181482806801796|-0.03597493812647...|0.004373776261749981|2.5795921623862443|-19.555941657817677|12.097944376843035|0.25752318129473944| 0.13146068933209318|-0.03165133045538116| -0.1475666782758918|0.006543744649355177|0.006260936860062295|0.002600499793597363|FH2369_20220322_1...| FH2369|     1.1.8|           106210|\n",
      "|1.64796028191E9|           52|          Ego|-109.02571744582383|  70.1849380414933| 0.05674041993916035|-0.03558479205189...|0.004455733344046193| 2.579862683333524|-19.563112179329824|12.105395049581826|0.24586174867511595|-0.11858613867542588| -0.1870241904510091|-0.03545767073891282|-0.00417854127208...|-6.87108533955836...|0.002515339642497...|FH2369_20220322_1...| FH2369|     1.1.8|           106211|\n",
      "|1.64796028201E9|           53|          Ego|  -110.980750139046| 71.39549727272242| 0.05827288702130318|-0.03520508929880219|0.004957627864491748| 2.580301272428883|  -19.5682706735339|12.109414375798783|0.23181781392844591|-0.07280462966351575| -0.1133748487358616| 0.40333363355417184|-0.00822406517842...|-0.00328259107839...|0.007726861521689692|FH2369_20220322_1...| FH2369|     1.1.8|           106212|\n",
      "|1.64796028211E9|           54|          Ego|-112.93469590274617| 72.60865405621007| 0.06410857290029526|-0.03495142262028...|0.005114953234665...|  2.58037983552751| -19.54169090912662|12.087536541828344|0.22041456885955094| 0.18354277210259343| 0.08838560936561381|-0.14064156880366838|-0.00116076409234...|0.002838179728178076|-7.20580018670157...|FH2369_20220322_1...| FH2369|     1.1.8|           106213|\n",
      "|1.64796028221E9|           55|          Ego|-114.88665297045372|  73.8216676292941| 0.06986841931939125|-0.03448085845383076|0.004812646003792179|2.5805623344412436|-19.526146178364204|12.071090784503426|0.21450755635418012| 0.17591411072292004| -0.2489401450373417| -0.2716502024759893|-0.00116408186051...| 0.00599923366244485|7.198590338190236E-4|FH2369_20220322_1...| FH2369|     1.1.8|           106214|\n",
      "|1.64796028231E9|           56|          Ego| -116.8386286442983| 75.03333903243765| 0.07448086142539978|-0.03420988928236436|0.003926822544124281|2.5812220186215655|-19.542173994321086|12.054117999434991|0.24529944323057754|-0.24255585293118345| -0.2741378142937349| 0.06356529992406458|0.004522377763313966| 0.00689937131356843|0.007358273207025489|FH2369_20220322_1...| FH2369|     1.1.8|           106215|\n",
      "|1.64796028241E9|           57|          Ego|  -118.792228757462| 76.24277127999812| 0.07857334986329079|-0.03445767959508061|0.003437567763196846|2.5815611056264927|-19.555028144281764|12.043588309318745|  0.269032628057346|-0.10687893919857641|-0.03853887690824...| 0.14796346962044965|0.005562630050090664|0.005955335034819503|0.004751039216328442|FH2369_20220322_1...| FH2369|     1.1.8|           106216|\n",
      "|1.64796028251E9|           58|          Ego|-120.74681281676749| 77.45141698978841| 0.08347771875560284|-0.03482261790855027|0.003458850082663...|2.5818430366363656|-19.565809827385355|12.026501440823857| 0.2749271120698183|-0.18692271107175487|-0.06871746873125906| 0.08452340666464381| 0.00384266070437329|-0.00486652306077...|7.387785897879861E-4|FH2369_20220322_1...| FH2369|     1.1.8|           106217|\n",
      "|1.64796028261E9|           59|          Ego|-122.70187995268498|  78.6576498397626| 0.08795296400785446|-0.03578592028796641|0.003102728936997799|2.5823286559689174| -19.56218420553094|12.001185339217464|0.29011122916415893| 0.07170267547100656|-0.28493275171869675|-0.26047050753587564| 0.01253560124089082|-0.00132659446196...|0.004463043035635511|FH2369_20220322_1...| FH2369|     1.1.8|           106218|\n",
      "|1.64796028271E9|           60|          Ego|-124.65651087037986| 79.86325036361814| 0.09135018289089203|-0.03659237915676...| 0.00252131128015122|  2.58262399352239|-19.557235453254293| 12.00413949343906| 0.3195878919290173|  0.0967488175049029|-0.04431548032205...| 0.05109575726683861|0.008321558595543638|0.001727734052487...|0.004572074815706792|FH2369_20220322_1...| FH2369|     1.1.8|           106219|\n",
      "|1.64796028281E9|           61|          Ego| -126.6113543229294| 81.06832253141329| 0.09471920318901539|-0.03716035748601...|0.001872902544788...| 2.582848091963239|-19.565708798948656| 11.99915275540326| 0.3650592299645786|-0.03372527174129...|0.018794556800725275| 0.23525381117195918|0.008989766701014094|0.001938132078294...|0.003000583161431816|FH2369_20220322_1...| FH2369|     1.1.8|           106220|\n",
      "|1.64796028291E9|           62|          Ego|-128.56650447362335| 82.27389149041846| 0.09844172187149525| -0.0374614840215824|0.001422659053026915| 2.582997952772649|  -19.5700087093367| 12.00617239690194|0.37594744769123867|-0.14663400248605768| 0.16463225501551415|-0.05019847593422...|0.006899814451922167|0.004939269877655497|-5.89826848458842...|FH2369_20220322_1...| FH2369|     1.1.8|           106221|\n",
      "|1.64796028301E9|           63|          Ego| -130.5228229612112| 83.47958687599748| 0.10166086256504059| -0.0374276762382968|0.001530589862999...| 2.583438820945617| -19.58715599878621|12.006417071881982| 0.3766272210527313|-0.31172558113870935| 0.13662865329050397| 0.08805942672008332|-0.00322823872067...|-0.00443386800369...|0.004150970286975191|FH2369_20220322_1...| FH2369|     1.1.8|           106222|\n",
      "|1.64796028311E9|           64|          Ego|-132.47935510444222| 84.68228544155136| 0.10218997299671173|-0.03748608310383454|0.001476919854171...|2.5839342450678107|-19.575672854345942|11.994342347395502| 0.3797256330527673|  0.0593890556582632|-0.07464736840609754|0.021184133030893094|0.004158172284093054|0.003515822962893431|0.005760880558747401|FH2369_20220322_1...| FH2369|     1.1.8|           106223|\n",
      "|1.64796028321E9|           65|          Ego|-134.43564761418384| 85.88386810291559| 0.10239366628229618|-0.03722505089125...|0.001503588035702...| 2.584033213529955|-19.570907617734285|11.996829012422399|0.38042286608941644| 0.04561297944687355|-0.06290775228618986|-0.07982146190235166|-0.00715291683901...|2.697144857807259E-4|6.929590194129056E-4|FH2369_20220322_1...| FH2369|     1.1.8|           106224|\n",
      "|1.64796028331E9|           66|          Ego|-136.39132027025335| 87.08500706683844|  0.1035884078592062|-0.03674021361591031|9.291777483366833E-4|2.5842301203573914| -19.56230336805225| 11.98664891046642| 0.4036861401062816|  0.1577554750871218|-0.03325524105831377| -0.1943708284852801|-0.00201903579235...|0.006592856269496968|0.001325118267447283|FH2369_20220322_1...| FH2369|     1.1.8|           106225|\n",
      "|1.64796028341E9|           67|          Ego|-138.34789271303453| 88.28544831741601| 0.10503932274878025|-0.03635214136825529|5.166352734354463E-4|2.5847783255975907| -19.58352497305584|11.977370996686195|0.42779410580843197|-0.08646137896178782|-0.07481263162259268|-0.04287754346653253|-0.00454781543639...|0.002795798198378393|0.004761455654882...|FH2369_20220322_1...| FH2369|     1.1.8|           106226|\n",
      "|1.64796028351E9|           68|          Ego| -140.3057414329378|  89.4860801291652| 0.10683746635913849|-0.03589669471137703|6.346155791058567E-4|2.5851027634776615|-19.599529170720245|11.983852211089392| 0.4259502526818365|-0.04376488587954506|-0.22839787391529257| 0.19209987521264302|-0.00888422062474...|-0.00512729660714...|0.002852025058239...|FH2369_20220322_1...| FH2369|     1.1.8|           106227|\n",
      "|1.64796028361E9|           69|          Ego|-142.26486426382326| 90.68646250851452| 0.10852029174566269|-0.03551903461180538|0.001054937722914...| 2.585289185703211|-19.604798223744602|11.983989433681586|0.38993313282680553|-0.01517199792707...|-0.08416609273865133|-0.01948902795023...|-0.00873168786202...|-0.00635010959145...|0.004516741368352411|FH2369_20220322_1...| FH2369|     1.1.8|           106228|\n",
      "|1.64796028371E9|           70|          Ego|-144.22393225727137| 91.88542089983821| 0.10895232297480106|-0.03522966711618627|0.001200726124322767|2.5858125210285907|-19.600400946147015|11.966309974515362|  0.362154168318085|0.036974402550202706|-0.05802779794434...|-0.01178073517854...|-0.00365876745296...|-0.00326165409038...|0.004419180182638916|FH2369_20220322_1...| FH2369|     1.1.8|           106229|\n",
      "|1.64796028381E9|           71|          Ego|-146.18425394035876| 93.08265536045656| 0.10895141027867794|-0.03525019530301...|0.001207885098657...|2.5861887601072455|-19.621660456272476|11.940247318371773| 0.3631663252101076|-0.19125055530716364|-0.18095172285127853|-0.04279434307755852|0.004925297420981...|0.001635195935006...|0.001532827549923...|FH2369_20220322_1...| FH2369|     1.1.8|           106230|\n",
      "|1.64796028391E9|           72|          Ego|-148.14574715169147| 94.27765699289739| 0.10863921139389277|-0.03587824181905182|0.001381425249302...| 2.586498133021855|-19.631355247596634|11.918881305712752| 0.3587751002106173| -0.1421262995421652|-0.20776807491340385| 0.02992840665079146|0.008773087979989413|-0.00384731118178...|0.003774860790659...|FH2369_20220322_1...| FH2369|     1.1.8|           106231|\n",
      "|1.64796028401E9|           73|          Ego| -150.1083507994772| 95.47110569756478| 0.10787827894091606|-0.03680965638913954|0.001370016684509...|2.5868699598245204| -19.64522068888649|11.922262897611267|0.36114396707259666| -0.3982247514263831|  0.2325034974927843|-3.64547902278221...|0.005288844933662...|-0.00407984940801...|0.003690390084043...|FH2369_20220322_1...| FH2369|     1.1.8|           106232|\n",
      "|1.64796028411E9|           74|          Ego|-152.07184564130148| 96.66527433833107| 0.10483294818550348|-0.03708357746473066|0.001948106276994864|2.5871919713192533|-19.636156198401938|11.934268599686892| 0.3217505665864109| 0.16289312638961265|  0.2187697718926097| -0.4226664829455964|-0.00218485516754...|-0.00348962200258...|0.002439298532057...|FH2369_20220322_1...| FH2369|     1.1.8|           106233|\n",
      "|1.64796028421E9|           75|          Ego|-154.03555566002615| 97.86075497372076| 0.10006773471832275|-0.03651478603106215|0.002705368170107...| 2.587719532383839|-19.635556572644877|11.935911110581362|0.27939020412997384| 0.39761727587281964| -0.2501183193426639|-0.21124434611429566|-0.01254089422628615|-0.00569446405481...|0.005674885083715955|FH2369_20220322_1...| FH2369|     1.1.8|           106234|\n",
      "|1.64796028431E9|           76|          Ego|-155.99888000887586| 99.05565753299743| 0.09339268505573273|-0.03569518647349783|0.002903590640586197|2.5882687381406035|-19.645347804418556|11.938088733243335|0.23834620023857173|-0.14344199233144017|-0.06933754752832262|-0.04121480611339...|-0.01205399739748509|4.290586508491515...|0.008562464221737785|FH2369_20220322_1...| FH2369|     1.1.8|           106235|\n",
      "|1.64796028441E9|           77|          Ego| -157.9626486907946|100.24892480438575| 0.08526713587343693|-0.03471564341525...|0.002998874679996184|2.5888176172735853|-19.647678245544753|11.915250883129627|0.20522870010719774| -0.3115841027201083|-0.21121728635177628|-0.04433097666492623|-0.00595961010585182| 0.00998499746876138|0.005203923178746...|FH2369_20220322_1...| FH2369|     1.1.8|           106236|\n",
      "|1.64796028451E9|           78|          Ego|-159.92763549264055|101.43987351842225|   0.078187788836658|-0.03405271161386506|0.003015640551074...|2.5895188093258703|-19.658046273881403|11.886415347874316|0.21566206156212286| -0.3455326184419304|-0.05180224903026549| 0.08157403617867719|9.804844133502614E-4|0.010200209826404094|0.003472965044572...|FH2369_20220322_1...| FH2369|     1.1.8|           106237|\n",
      "|1.64796028461E9|           79|          Ego|-161.89420992863597|102.62858849298209| 0.07276838272809982|-0.03383124119221774|0.003113402416165...|2.5903670462745736|-19.681248404739627|11.868586611507972|0.23264894643944595|-0.20458359539576262|-0.25728201387982075| 0.24542621239384496|-0.00372307832694...|-0.00171464148794...|0.011089143925294856|FH2369_20220322_1...| FH2369|     1.1.8|           106238|\n",
      "|1.64796028471E9|           80|          Ego|-163.86304334871238|103.81546936323866| 0.07010773941874504|-0.03397615948987124|0.003354161080105...| 2.591327110460744|-19.700820067383336|11.840080331939035| 0.2550243184841024|-0.05877180436558295|-0.41932878482534747| 0.21989340127717072|-3.75219610731873...|-0.00613247369136...|0.010194516517109859|FH2369_20220322_1...| FH2369|     1.1.8|           106239|\n",
      "|1.64796028481E9|           81|          Ego|-165.83272779214894|104.99957927502692| 0.07029319554567337|-0.03421738279852...|0.003066946659015...|2.5922104791611984|-19.706689439797945|11.810182751866892| 0.2931008646085149|-0.24020897764412844| -0.5155520766998036| 0.23355376475592068|0.006425049607132003|0.004553691538406589|0.008747016453314181|FH2369_20220322_1...| FH2369|     1.1.8|           106240|\n",
      "|1.64796028491E9|           82|          Ego|-167.80279941449407|106.18080731807277| 0.07354974374175072|-0.03471339727168...|0.002554802078307...|2.5929544594486336|-19.704046598430303|11.784305127328865|0.35544290282702484|  0.0877684172939167|-0.21227460092706743| 0.34961234500919247|0.008674742603879558|0.005648186496443057| 0.00714653861278511|FH2369_20220322_1...| FH2369|     1.1.8|           106241|\n",
      "|1.64796028501E9|           83|          Ego|-169.77293832646683|107.36052454216406|  0.0789849516004324|-0.03477272642626918|0.001471663092675743|2.5939190186112264|-19.714522466622963|11.773546411046423|0.42406501581191836|-0.04952733475419051|-0.04133877389279114|  0.3484318790241198|0.002442337866938...| 0.00765373529192753|0.011313971469015487|FH2369_20220322_1...| FH2369|     1.1.8|           106242|\n",
      "|1.64796028511E9|           84|          Ego|-171.74419962597312|108.54227120336145| 0.08578706905245781|-0.03433747976729438|  4.6257338483905E-4|  2.59494468406558|  -19.7279232978785|11.769882194820493|0.44072607645674433| -0.3096407102905133| 0.01583287923029153| 0.06618700218059455|0.001679915696067...|  0.0105062476347534|0.010773050614383849|FH2369_20220322_1...| FH2369|     1.1.8|           106243|\n",
      "|1.64796028521E9|           85|          Ego|-173.71774480427848|109.72476042201743| 0.09189191926270723|-0.03371578585900437|2.093187483322223...|  2.59606353562548|-19.740489758666357|11.771745216656036| 0.4273566055972654|-0.14291762350114054|-0.13871863038742138|-0.15945139702500769|-0.00451648522262...|0.006888731070641599|0.010025663109071737|FH2369_20220322_1...| FH2369|     1.1.8|           106244|\n",
      "|1.64796028531E9|           86|          Ego|  -175.692818296724|110.90712776314467|  0.0966809494420886|-0.03249099236183473|5.137560235114392E-4|2.5969809854004913|-19.748269030588233| 11.77235464615802| 0.3812726422605945|-0.13454649773270705| 0.06708434276650717|-0.30228999071699575|-0.01374983238414...|0.006302959726871285|0.008322376373983338|FH2369_20220322_1...| FH2369|     1.1.8|           106245|\n",
      "|1.64796028541E9|           87|          Ego| -177.6689235843951|112.08757983427495| 0.09867066517472267|-0.03127963992336...|8.736040561788994E-4|2.5980598922468885| -19.76620663598694|11.745454315340552| 0.3270351226115687|0.011140007837988176| -0.3739539406703993| -0.2403158513404199|-0.01172360377633865| 3.09470980350394E-4| 0.01155206560352103|FH2369_20220322_1...| FH2369|     1.1.8|           106246|\n",
      "|1.64796028551E9|           88|          Ego| -179.6468358373968|113.26566255185753| 0.09816441033035517|-0.03048358814058...|0.001096285844354...|2.5990993857324467| -19.78705144673806|11.720057056448212| 0.2823043672657948|-0.31503797334146083|-0.32281962489686117|-0.14256900932187982|-0.00514689181242...|0.001893782952343...|0.008719570903694171|FH2369_20220322_1...| FH2369|     1.1.8|           106247|\n",
      "|1.64796028561E9|           89|          Ego|-181.62715349462815|114.44042043155059| 0.09550374187529087|-0.03026744983391...|0.001711422930586...| 2.600260020862806| -19.81251784702275|11.693102904273957|0.23637150352275121| -0.2945980870368764|-0.47744905776648866|0.022392262967923685|-0.00150852737836...|-0.00455548064004...|0.012742845938540751|FH2369_20220322_1...| FH2369|     1.1.8|           106248|\n",
      "|1.64796028571E9|           90|          Ego|-183.61007809912553|115.61183517146856| 0.09304567240178585|-0.03088656383874...|0.002309608254461102| 2.601281629939969| -19.82980155111621| 11.66406452648338|0.22659530996500785| -0.0980178761601904|-0.08817569355671395| 0.03284861921753389|0.004212614566101163|-0.00588692213612...|0.009995069812147749|FH2369_20220322_1...| FH2369|     1.1.8|           106249|\n",
      "|1.64796028581E9|           91|          Ego|-185.59380102867726|116.78047280060127| 0.09151291660964489| -0.0312882257704841|0.002667901939836...| 2.602270295005856|-19.837902376563335|11.630834416968275|0.22602522520736604|-0.07548255142711771|-0.26086449156055863|0.039217840964823406|0.005952421355196833|4.245563628576868E-4| 0.01015007521934268|FH2369_20220322_1...| FH2369|     1.1.8|           106250|\n",
      "|1.64796028591E9|           92|          Ego|-187.57898298359942|117.94662304967642| 0.09134661592543125|-0.03195868069129485|0.002547429223937259| 2.603474986783182|-19.859616147959084| 11.60062418985361| 0.2613424075373057| -0.2671160604292927|-0.40817119964024184|  0.4220599099799478| 0.01171078856313698|-7.20669017242294...|0.011055132476674856|FH2369_20220322_1...| FH2369|     1.1.8|           106251|\n",
      "|1.64796028601E9|           93|          Ego|-189.56601812050212|119.10985798062757| 0.09311383869498968|-0.03303951030643...|0.002427336348677067|2.6043817929265853|-19.879599931469613|11.585098845572807|0.29071059319716175| -0.2851512085391411|-0.18938615238225215| 0.28065517072351476|  0.0088107948955877|-0.00597644986591232|0.010088080130818909|FH2369_20220322_1...| FH2369|     1.1.8|           106252|\n",
      "|1.64796028611E9|           94|          Ego| -191.5552068511024|120.27277742000297|  0.1000946331769228|-0.03424228776102...|0.002321057719934...|2.6051627739319785|-19.897367173536825|11.570439872002312|0.32679681556156087|-0.00192168125552...|-0.07157808931443715|-0.00199140602220...|0.007960698125040779|-0.00777076198297...|0.006923480797258002|FH2369_20220322_1...| FH2369|     1.1.8|           106253|\n",
      "|1.64796028621E9|           95|          Ego|  -193.545652082772|121.43453531013802| 0.10890065226703882|-0.03535311865811807|0.002141956253614...|2.6058259326969226| -19.91076534773159|11.555652965476272|0.36333165954204405| 0.10572663795734678|-0.11581454837343864| 0.10824556602307164|   0.010253008158834|-0.00622926547557...| 0.00749263739295756|FH2369_20220322_1...| FH2369|     1.1.8|           106254|\n",
      "|1.64796028631E9|           96|          Ego|-195.53654078999534|122.59563762834296| 0.11834420543164015|-0.03641376305428...|0.001393554783895...| 2.606626843164487|-19.914304237143703|11.552856328199875|  0.402747613300676| -0.0416953756651586| 0.09947258506776335|  0.1473860195699331|0.012966806116741158|0.002399214689617...|0.007072150760308168|FH2369_20220322_1...| FH2369|     1.1.8|           106255|\n",
      "|1.64796028641E9|           97|          Ego|-197.52782524563372|123.75697691645473|  0.1263507343828678|-0.03696433680532796|6.920308172132483E-4|2.6070597198199756|-19.927232965310274| 11.56897951187561|0.42128748672140137|-0.31773540700246156| 0.25660705339582074|-0.02278846890342...|0.004004970362245...|-2.07361338973952...|0.003754339352773718|FH2369_20220322_1...| FH2369|     1.1.8|           106256|\n",
      "|1.64796028651E9|           98|          Ego|-199.52121791633544|124.92049381881952| 0.13350883964449167|-0.03696763723562042|4.380907106121146...| 2.607359973375245|-19.944624846651987|11.585537808852914|0.41864034829399766|-0.19328277932309412| 0.22536161400153779| -0.2793742573096888|1.633063728408982...|0.002476073685085...|0.002703910639969...|FH2369_20220322_1...| FH2369|     1.1.8|           106257|\n",
      "|1.64796028661E9|           99|          Ego|-201.51681416278007|126.08485769573599|  0.1394208800047636|-0.03679967491196489|8.351566815474157E-4|2.6077863273400395|-19.964857292403018|11.589190001897087| 0.3910950333214016|  0.0292434876716094|-0.05526729260298...| -0.5096680777794625|-0.00428161969334...|-0.00468884527271...|0.004192905678638...|FH2369_20220322_1...| FH2369|     1.1.8|           106258|\n",
      "+---------------+-------------+-------------+-------------------+------------------+--------------------+--------------------+--------------------+------------------+-------------------+------------------+-------------------+--------------------+--------------------+--------------------+--------------------+--------------------+--------------------+--------------------+-------+----------+-----------------+\n",
      "only showing top 100 rows\n",
      "\n"
     ]
    }
   ],
   "source": [
    "ego.show(100)"
   ]
  },
  {
   "cell_type": "code",
   "execution_count": 51,
   "id": "ce8ea0d9",
   "metadata": {},
   "outputs": [
    {
     "ename": "AttributeError",
     "evalue": "'DataFrame' object has no attribute 'dtype'",
     "output_type": "error",
     "traceback": [
      "\u001b[0;31m---------------------------------------------------------------------------\u001b[0m",
      "\u001b[0;31mAttributeError\u001b[0m                            Traceback (most recent call last)",
      "Cell \u001b[0;32mIn[51], line 1\u001b[0m\n\u001b[0;32m----> 1\u001b[0m \u001b[43mego\u001b[49m\u001b[38;5;241;43m.\u001b[39;49m\u001b[43mdtype\u001b[49m()\n",
      "File \u001b[0;32m/opt/conda/lib/python3.11/site-packages/pyspark/sql/dataframe.py:2977\u001b[0m, in \u001b[0;36mDataFrame.__getattr__\u001b[0;34m(self, name)\u001b[0m\n\u001b[1;32m   2944\u001b[0m \u001b[38;5;250m\u001b[39m\u001b[38;5;124;03m\"\"\"Returns the :class:`Column` denoted by ``name``.\u001b[39;00m\n\u001b[1;32m   2945\u001b[0m \n\u001b[1;32m   2946\u001b[0m \u001b[38;5;124;03m.. versionadded:: 1.3.0\u001b[39;00m\n\u001b[0;32m   (...)\u001b[0m\n\u001b[1;32m   2974\u001b[0m \u001b[38;5;124;03m+---+\u001b[39;00m\n\u001b[1;32m   2975\u001b[0m \u001b[38;5;124;03m\"\"\"\u001b[39;00m\n\u001b[1;32m   2976\u001b[0m \u001b[38;5;28;01mif\u001b[39;00m name \u001b[38;5;129;01mnot\u001b[39;00m \u001b[38;5;129;01min\u001b[39;00m \u001b[38;5;28mself\u001b[39m\u001b[38;5;241m.\u001b[39mcolumns:\n\u001b[0;32m-> 2977\u001b[0m     \u001b[38;5;28;01mraise\u001b[39;00m \u001b[38;5;167;01mAttributeError\u001b[39;00m(\n\u001b[1;32m   2978\u001b[0m         \u001b[38;5;124m\"\u001b[39m\u001b[38;5;124m'\u001b[39m\u001b[38;5;132;01m%s\u001b[39;00m\u001b[38;5;124m'\u001b[39m\u001b[38;5;124m object has no attribute \u001b[39m\u001b[38;5;124m'\u001b[39m\u001b[38;5;132;01m%s\u001b[39;00m\u001b[38;5;124m'\u001b[39m\u001b[38;5;124m\"\u001b[39m \u001b[38;5;241m%\u001b[39m (\u001b[38;5;28mself\u001b[39m\u001b[38;5;241m.\u001b[39m\u001b[38;5;18m__class__\u001b[39m\u001b[38;5;241m.\u001b[39m\u001b[38;5;18m__name__\u001b[39m, name)\n\u001b[1;32m   2979\u001b[0m     )\n\u001b[1;32m   2980\u001b[0m jc \u001b[38;5;241m=\u001b[39m \u001b[38;5;28mself\u001b[39m\u001b[38;5;241m.\u001b[39m_jdf\u001b[38;5;241m.\u001b[39mapply(name)\n\u001b[1;32m   2981\u001b[0m \u001b[38;5;28;01mreturn\u001b[39;00m Column(jc)\n",
      "\u001b[0;31mAttributeError\u001b[0m: 'DataFrame' object has no attribute 'dtype'"
     ]
    }
   ],
   "source": []
  },
  {
   "cell_type": "code",
   "execution_count": 10,
   "id": "69d7b59f",
   "metadata": {},
   "outputs": [],
   "source": [
    "line = session.loadParquet('avl_reference','line',record_id=recording_id[0])"
   ]
  },
  {
   "cell_type": "code",
   "execution_count": 11,
   "id": "5e51bc65",
   "metadata": {},
   "outputs": [
    {
     "name": "stdout",
     "output_type": "stream",
     "text": [
      "+---------------+-------------+-------------+----------+------------+----+-----+--------------------+--------------------+--------------------+--------------------+-------+----------+-----------------+\n",
      "|       ptp_time|MessageNumber|ReferenceType|TrackingID|SensorIDList|Type|Color|       BoundaryLineX|       BoundaryLineY|       BoundaryLineZ|        recording_id|vehicle|sw_version|__index_level_0__|\n",
      "+---------------+-------------+-------------+----------+------------+----+-----+--------------------+--------------------+--------------------+--------------------+-------+----------+-----------------+\n",
      "|1.64795877671E9|            0|         Line|       4.0|       100.0| 4.0|  3.0|[3.58450984954834...|[13.4302139282226...|[-4.0568375587463...|FH2369_20220322_1...| FH2369|     1.1.8|                0|\n",
      "|1.64795877671E9|            0|         Line|       5.0|       100.0| 3.0|  3.0|[7.44267940521240...|[10.0110597610473...|[-4.2979311943054...|FH2369_20220322_1...| FH2369|     1.1.8|                1|\n",
      "|1.64795877671E9|            0|         Line|      18.0|       100.0| 4.0|  3.0|[11.9831104278564...|[14.8771600723266...|[-4.3467068672180...|FH2369_20220322_1...| FH2369|     1.1.8|                2|\n",
      "|1.64795877671E9|            0|         Line|      12.0|       100.0| 3.0|  3.0|[54.5718765258789...|[10.5204524993896...|[-3.4818470478057...|FH2369_20220322_1...| FH2369|     1.1.8|                3|\n",
      "|1.64795877671E9|            0|         Line|       1.0|       100.0| 4.0|  3.0|[128.992462158203...|[6.00166320800781...|[-3.5332794189453...|FH2369_20220322_1...| FH2369|     1.1.8|                4|\n",
      "+---------------+-------------+-------------+----------+------------+----+-----+--------------------+--------------------+--------------------+--------------------+-------+----------+-----------------+\n",
      "only showing top 5 rows\n",
      "\n"
     ]
    }
   ],
   "source": [
    "line.show(5)"
   ]
  },
  {
   "cell_type": "code",
   "execution_count": 12,
   "id": "8042f3c7",
   "metadata": {},
   "outputs": [
    {
     "data": {
      "text/plain": [
       "680259"
      ]
     },
     "execution_count": 12,
     "metadata": {},
     "output_type": "execute_result"
    }
   ],
   "source": [
    "line.count()"
   ]
  },
  {
   "cell_type": "code",
   "execution_count": 13,
   "id": "6f9bc217",
   "metadata": {},
   "outputs": [
    {
     "data": {
      "text/plain": [
       "pyspark.sql.dataframe.DataFrame"
      ]
     },
     "execution_count": 13,
     "metadata": {},
     "output_type": "execute_result"
    }
   ],
   "source": [
    "type(line)"
   ]
  },
  {
   "cell_type": "code",
   "execution_count": 14,
   "id": "5babe608",
   "metadata": {},
   "outputs": [],
   "source": [
    "import time\n",
    "from datetime import datetime\n",
    "\n",
    "time_interval = ['2022-03-22 14:52:56.406', '2022-03-22 15:00:09.405']\n",
    "ptp_time_range = [int(pd.to_datetime(time_interval[0],format= '%Y-%m-%d %H:%M:%S.%f' ).timestamp()),\n",
    "                  int(pd.to_datetime(time_interval[1],format= '%Y-%m-%d %H:%M:%S.%f' ).timestamp())]\n"
   ]
  },
  {
   "cell_type": "code",
   "execution_count": 15,
   "id": "676762cd",
   "metadata": {},
   "outputs": [
    {
     "data": {
      "text/plain": [
       "1647961209"
      ]
     },
     "execution_count": 15,
     "metadata": {},
     "output_type": "execute_result"
    }
   ],
   "source": [
    "ptp_time_range[1]"
   ]
  },
  {
   "cell_type": "code",
   "execution_count": 16,
   "id": "e677d7da",
   "metadata": {},
   "outputs": [],
   "source": [
    "line_sample = line.filter(line.ptp_time.between(ptp_time_range[0],ptp_time_range[1])).toPandas()\n",
    "pd.options.display.float_format = '{:.0f}'.format"
   ]
  },
  {
   "cell_type": "code",
   "execution_count": 6,
   "id": "c3b1ecc7",
   "metadata": {},
   "outputs": [
    {
     "ename": "NameError",
     "evalue": "name 'line_sample' is not defined",
     "output_type": "error",
     "traceback": [
      "\u001b[0;31m---------------------------------------------------------------------------\u001b[0m",
      "\u001b[0;31mNameError\u001b[0m                                 Traceback (most recent call last)",
      "Cell \u001b[0;32mIn[6], line 1\u001b[0m\n\u001b[0;32m----> 1\u001b[0m \u001b[43mline_sample\u001b[49m\n",
      "\u001b[0;31mNameError\u001b[0m: name 'line_sample' is not defined"
     ]
    }
   ],
   "source": [
    "line_sample"
   ]
  },
  {
   "cell_type": "code",
   "execution_count": 50,
   "id": "235b47ec",
   "metadata": {},
   "outputs": [
    {
     "data": {
      "image/png": "[encoded data removed]",
      "text/plain": [
       "<Figure size 640x480 with 1 Axes>"
      ]
     },
     "metadata": {},
     "output_type": "display_data"
    }
   ],
   "source": [
    "import matplotlib.pyplot as plt\n",
    "ptp_time = line_sample.iloc[12660]['ptp_time']\n",
    "filtered_df = line_sample[line_sample['ptp_time'] == ptp_time]\n",
    "\n",
    "merged_lines = []\n",
    "\n",
    "for index, row in filtered_df.iterrows():\n",
    "    if not merged_lines or row['TrackingID'] != merged_lines[-1]['TrackingID']:\n",
    "        merged_lines.append(row)\n",
    "    else:\n",
    "        merged_lines[-1]['BoundaryLineX'].extend(row['BoundaryLineX'])\n",
    "        merged_lines[-1]['BoundaryLineY'].extend(row['BoundaryLineY'])\n",
    "\n",
    "\n",
    "for merged_line in merged_lines:\n",
    "    plt.plot(merged_line['BoundaryLineX'], merged_line['BoundaryLineY'], label=f'Tracking ID {merged_line[\"TrackingID\"]}')\n",
    "\n",
    "plt.xlabel('BoundaryLineX')\n",
    "plt.ylabel('BoundaryLineY')\n",
    "\n",
    "plt.show()"
   ]
  },
  {
   "cell_type": "code",
   "execution_count": 26,
   "id": "9cc0e20c",
   "metadata": {},
   "outputs": [],
   "source": [
    "test_line = 12662"
   ]
  },
  {
   "cell_type": "code",
   "execution_count": 20,
   "id": "61ff5181",
   "metadata": {},
   "outputs": [],
   "source": [
    "from sklearn.linear_model import LinearRegression\n",
    "def get_straightness(BoundaryLineX: list[float], BoundaryLineY: list[float])-> float:\n",
    "    BoundaryLineX_array = np.array(BoundaryLineX)\n",
    "    BoundaryLineX_reshaped = BoundaryLineX_array.reshape(-1, 1)\n",
    "    model = LinearRegression().fit(BoundaryLineX_reshaped, BoundaryLineY)\n",
    "    straightness = model.score(BoundaryLineX_reshaped, BoundaryLineY)\n",
    "    return straightness\n"
   ]
  },
  {
   "cell_type": "code",
   "execution_count": 49,
   "id": "4ee3ced9",
   "metadata": {},
   "outputs": [
    {
     "data": {
      "text/plain": [
       "0.9845700588822551"
      ]
     },
     "execution_count": 49,
     "metadata": {},
     "output_type": "execute_result"
    }
   ],
   "source": [
    "get_straightness(line_sample.iloc[test_line]['BoundaryLineX'], line_sample.iloc[test_line]['BoundaryLineY'])"
   ]
  },
  {
   "cell_type": "code",
   "execution_count": 48,
   "id": "8b73952a",
   "metadata": {},
   "outputs": [
    {
     "data": {
      "image/png": "[encoded data removed]",
      "text/plain": [
       "<Figure size 640x480 with 1 Axes>"
      ]
     },
     "metadata": {},
     "output_type": "display_data"
    }
   ],
   "source": [
    "test_line = 12679\n",
    "x_values = line_sample.iloc[test_line]['BoundaryLineX']\n",
    "y_values = line_sample.iloc[test_line]['BoundaryLineY']\n",
    "\n",
    "plt.plot(x_values, y_values)\n",
    "plt.xlabel('X')\n",
    "plt.ylabel('Y')\n",
    "plt.title('Boundary Line')\n",
    "plt.show()"
   ]
  },
  {
   "cell_type": "code",
   "execution_count": null,
   "id": "beb8f012",
   "metadata": {},
   "outputs": [],
   "source": [
    "def get_length(segment):\n",
    "    segment_lengths = []\n",
    "    for i in range(len(segment['BoundaryLineX']) - 1):\n",
    "        x1, y1 = segment['BoundaryLineX'][i], segment['BoundaryLineY'][i]\n",
    "        x2, y2 = segment['BoundaryLineX'][i + 1], segment['BoundaryLineY'][i + 1]\n",
    "        segment_length = np.sqrt((x2 - x1)**2 + (y2 - y1)**2)\n",
    "        segment_lengths.append(segment_length)\n",
    "    return sum(segment_lengths)"
   ]
  },
  {
   "cell_type": "code",
   "execution_count": 4,
   "id": "aeee571b",
   "metadata": {},
   "outputs": [],
   "source": [
    "def if_straight(line_data: pd.DataFrame, ptp_time: int) -> bool:\n",
    "    mask = line_data['ptp_time'] == ptp_time\n",
    "    segments = line_data[mask]\n",
    "    straight_length = 0\n",
    "    total_length = 0\n",
    "    for index, segment in segments.iterrows():\n",
    "        print(segment)\n",
    "        segment_length = get_length(segment)\n",
    "        total_length += segment_length\n",
    "        straightness = get_straightness(segment['BoundaryLineX'],segment['BoundaryLineY'])\n",
    "        if straightness > 0.94:\n",
    "            straight_length += segment_length\n",
    "    return True if straight_length/total_length > 0.5 else False"
   ]
  },
  {
   "cell_type": "code",
   "execution_count": 1,
   "id": "cfaf5f91",
   "metadata": {},
   "outputs": [
    {
     "ename": "NameError",
     "evalue": "name 'if_straight' is not defined",
     "output_type": "error",
     "traceback": [
      "\u001b[0;31m---------------------------------------------------------------------------\u001b[0m",
      "\u001b[0;31mNameError\u001b[0m                                 Traceback (most recent call last)",
      "Cell \u001b[0;32mIn[1], line 2\u001b[0m\n\u001b[1;32m      1\u001b[0m \u001b[38;5;241m1647960776\u001b[39m\n\u001b[0;32m----> 2\u001b[0m \u001b[43mif_straight\u001b[49m(line_sample, \u001b[38;5;241m1647960776\u001b[39m)\n",
      "\u001b[0;31mNameError\u001b[0m: name 'if_straight' is not defined"
     ]
    }
   ],
   "source": [
    "1647960776\n",
    "if_straight(line_sample, 1647960776)"
   ]
  }
 ],
 "metadata": {
  "kernelspec": {
   "display_name": "Python 3 (ipykernel)",
   "language": "python",
   "name": "python3"
  },
  "language_info": {
   "codemirror_mode": {
    "name": "ipython",
    "version": 3
   },
   "file_extension": ".py",
   "mimetype": "text/x-python",
   "name": "python",
   "nbconvert_exporter": "python",
   "pygments_lexer": "ipython3",
   "version": "3.11.5"
  }
 },
 "nbformat": 4,
 "nbformat_minor": 5
}
